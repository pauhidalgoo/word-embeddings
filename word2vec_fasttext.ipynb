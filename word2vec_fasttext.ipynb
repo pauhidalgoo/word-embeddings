{
 "cells": [
  {
   "cell_type": "code",
   "execution_count": 9,
   "metadata": {},
   "outputs": [],
   "source": [
    "from gensim.models import word2vec\n",
    "from datasets import load_dataset\n",
    "from nltk.tokenize import word_tokenize, sent_tokenize\n",
    "import fasttext"
   ]
  },
  {
   "cell_type": "code",
   "execution_count": 10,
   "metadata": {},
   "outputs": [],
   "source": [
    "from datasets import load_dataset\n",
    "from nltk.tokenize import word_tokenize\n",
    "from multiprocessing import Pool, cpu_count\n",
    "\n",
    "# Step 1: Load the dataset and fetch only the first 100 MB of data\n",
    "data = load_dataset(\"projecte-aina/catalan_general_crawling\", split='train', trust_remote_code=True)\n",
    "\n",
    "# Fetching the first 100 MB of data in chunks\n",
    "data_subset = []\n",
    "total_size = 0\n",
    "for example in data:\n",
    "    text = example['text']\n",
    "    text_size_mb = len(text.encode('utf-8')) / (1024 * 1024) # Convert bytes to MB\n",
    "    if total_size + text_size_mb <= 500:\n",
    "        data_subset.append(text.lower())\n",
    "        total_size += text_size_mb\n",
    "    else:\n",
    "        break\n"
   ]
  },
  {
   "cell_type": "code",
   "execution_count": 13,
   "metadata": {},
   "outputs": [],
   "source": [
    "with open(\"./data/500mb.txt\", mode=\"w\", encoding=\"utf-8\") as f:\n",
    "    for text in data_subset:\n",
    "        f.write(text + \"\\n\")"
   ]
  },
  {
   "cell_type": "code",
   "execution_count": 15,
   "metadata": {},
   "outputs": [],
   "source": [
    "\n",
    "model = fasttext.train_unsupervised('data/500mb.txt')"
   ]
  }
 ],
 "metadata": {
  "kernelspec": {
   "display_name": ".venv",
   "language": "python",
   "name": "python3"
  },
  "language_info": {
   "codemirror_mode": {
    "name": "ipython",
    "version": 3
   },
   "file_extension": ".py",
   "mimetype": "text/x-python",
   "name": "python",
   "nbconvert_exporter": "python",
   "pygments_lexer": "ipython3",
   "version": "3.11.9"
  }
 },
 "nbformat": 4,
 "nbformat_minor": 2
}
