{
 "cells": [
  {
   "cell_type": "markdown",
   "source": [
    "# Semantic Text Similarity"
   ],
   "metadata": {
    "collapsed": false,
    "id": "iWyWyt5X7GRK"
   }
  },
  {
   "cell_type": "code",
   "execution_count": 2,
   "outputs": [],
   "source": [
    "# Requisites\n",
    "from gensim.models import TfidfModel\n",
    "from gensim.utils import simple_preprocess\n",
    "from gensim.corpora import Dictionary\n",
    "import numpy as np\n",
    "from scipy import spatial\n",
    "from typing import Tuple, List"
   ],
   "metadata": {
    "collapsed": false,
    "ExecuteTime": {
     "end_time": "2024-05-28T09:57:01.673450Z",
     "start_time": "2024-05-28T09:57:01.056869Z"
    }
   }
  },
  {
   "cell_type": "code",
   "outputs": [],
   "source": [
    "# Load stopwords in spanish\n",
    "STOPWORDS_ES = {\"yo\", \"tú\", \"él\", \"ella\", \"nosotros\", \"vosotros\", \"ellos\", \"de\", \"a\", }"
   ],
   "metadata": {
    "collapsed": false,
    "ExecuteTime": {
     "end_time": "2024-05-28T09:57:01.675833Z",
     "start_time": "2024-05-28T09:57:01.674277Z"
    }
   },
   "execution_count": 3
  },
  {
   "cell_type": "code",
   "execution_count": 4,
   "outputs": [],
   "source": [
    "# Define preprocessing\n",
    "def preprocess(sentence: str) -> List[str]:\n",
    "    preprocessed = simple_preprocess(sentence)\n",
    "    preprocessed = [token for token in preprocessed if token not in STOPWORDS_ES]\n",
    "    return preprocessed"
   ],
   "metadata": {
    "id": "6RhXHDNN7GRO",
    "executionInfo": {
     "status": "ok",
     "timestamp": 1715597140554,
     "user_tz": -120,
     "elapsed": 832,
     "user": {
      "displayName": "Dina Alfaro Diaz",
      "userId": "00309450318204567847"
     }
    },
    "ExecuteTime": {
     "end_time": "2024-05-28T09:57:01.677989Z",
     "start_time": "2024-05-28T09:57:01.676426Z"
    }
   }
  },
  {
   "cell_type": "markdown",
   "source": [
    "# Load Vectors"
   ],
   "metadata": {
    "collapsed": false,
    "id": "lANXoJjm7GRO"
   }
  },
  {
   "cell_type": "code",
   "source": [
    "WORD_EMBEDDING_FILE = '/Users/salva/Downloads/cc.es.300.bin.gz'"
   ],
   "metadata": {
    "colab": {
     "base_uri": "https://localhost:8080/"
    },
    "id": "Sf5afpx6afWh",
    "executionInfo": {
     "status": "ok",
     "timestamp": 1715597163800,
     "user_tz": -120,
     "elapsed": 20549,
     "user": {
      "displayName": "Dina Alfaro Diaz",
      "userId": "00309450318204567847"
     }
    },
    "outputId": "3ea9a65c-09bd-485b-819d-ff7935747b99",
    "ExecuteTime": {
     "end_time": "2024-05-28T09:57:01.680368Z",
     "start_time": "2024-05-28T09:57:01.678937Z"
    }
   },
   "execution_count": 5,
   "outputs": []
  },
  {
   "cell_type": "code",
   "execution_count": 6,
   "outputs": [],
   "source": [
    "# Load with gensim\n",
    "from gensim.models import fasttext\n",
    "wv_model = fasttext.load_facebook_vectors(WORD_EMBEDDING_FILE)"
   ],
   "metadata": {
    "id": "1YGBsMEw7GRO",
    "executionInfo": {
     "status": "ok",
     "timestamp": 1715597301647,
     "user_tz": -120,
     "elapsed": 135591,
     "user": {
      "displayName": "Dina Alfaro Diaz",
      "userId": "00309450318204567847"
     }
    },
    "ExecuteTime": {
     "end_time": "2024-05-28T09:58:57.067318Z",
     "start_time": "2024-05-28T09:57:01.681053Z"
    }
   }
  },
  {
   "cell_type": "code",
   "execution_count": 7,
   "outputs": [],
   "source": [
    "# If you want, you can use mmaps\n",
    "USE_MMAP = False\n",
    "if USE_MMAP:\n",
    "    from gensim.models.fasttext import FastTextKeyedVectors\n",
    "    MMAP_PATH = 'cc.es.gensim.bin'\n",
    "    # wv_model.save(MMAP_PATH)\n",
    "    wv_model = FastTextKeyedVectors.load(MMAP_PATH, mmap='r')"
   ],
   "metadata": {
    "id": "dUUuDMup7GRO",
    "executionInfo": {
     "status": "ok",
     "timestamp": 1715597308586,
     "user_tz": -120,
     "elapsed": 611,
     "user": {
      "displayName": "Dina Alfaro Diaz",
      "userId": "00309450318204567847"
     }
    },
    "ExecuteTime": {
     "end_time": "2024-05-28T09:58:57.079699Z",
     "start_time": "2024-05-28T09:58:57.072399Z"
    }
   }
  },
  {
   "cell_type": "code",
   "execution_count": 8,
   "outputs": [],
   "source": [
    "# Sample data\n",
    "input_pairs_example = [\n",
    "    ('Me gusta el futbol', 'Disfruto viendo partidos de futbol', 4),\n",
    "    ('El cielo está despejado', 'Hace un día bonito', 4.5),\n",
    "    ('Me encanta viajar', 'Explorar nuevos lugares es una pasión', 3.5),\n",
    "    ('Prefiero el verano', 'No me gusta el frío del invierno', 2.5),\n",
    "    ('Tengo hambre', '¿Qué hay para cenar?', 2),\n",
    "    ('La música me relaja', 'Escuchar música es una terapia', 3),\n",
    "    ('El libro es emocionante', 'No puedo dejar de leerlo', 4),\n",
    "    ('Me gusta la pizza', 'Es mi comida favorita', 4.5),\n",
    "    ('Estoy cansado', 'Necesito hacer una siesta', 1.5),\n",
    "    ('Hoy hace mucho calor', 'Es un día sofocante', 3.5)\n",
    "]"
   ],
   "metadata": {
    "id": "7o_989Kp7GRP",
    "executionInfo": {
     "status": "ok",
     "timestamp": 1715597310621,
     "user_tz": -120,
     "elapsed": 565,
     "user": {
      "displayName": "Dina Alfaro Diaz",
      "userId": "00309450318204567847"
     }
    },
    "ExecuteTime": {
     "end_time": "2024-05-28T09:58:57.178850Z",
     "start_time": "2024-05-28T09:58:57.081387Z"
    }
   }
  },
  {
   "cell_type": "code",
   "execution_count": 9,
   "outputs": [
    {
     "name": "stdout",
     "output_type": "stream",
     "text": [
      "Requirement already satisfied: datasets in ./.venv/lib/python3.11/site-packages (2.19.1)\r\n",
      "Requirement already satisfied: filelock in ./.venv/lib/python3.11/site-packages (from datasets) (3.14.0)\r\n",
      "Requirement already satisfied: numpy>=1.17 in ./.venv/lib/python3.11/site-packages (from datasets) (1.24.3)\r\n",
      "Requirement already satisfied: pyarrow>=12.0.0 in ./.venv/lib/python3.11/site-packages (from datasets) (16.1.0)\r\n",
      "Requirement already satisfied: pyarrow-hotfix in ./.venv/lib/python3.11/site-packages (from datasets) (0.6)\r\n",
      "Requirement already satisfied: dill<0.3.9,>=0.3.0 in ./.venv/lib/python3.11/site-packages (from datasets) (0.3.8)\r\n",
      "Requirement already satisfied: pandas in ./.venv/lib/python3.11/site-packages (from datasets) (2.2.2)\r\n",
      "Requirement already satisfied: requests>=2.19.0 in ./.venv/lib/python3.11/site-packages (from datasets) (2.32.2)\r\n",
      "Requirement already satisfied: tqdm>=4.62.1 in ./.venv/lib/python3.11/site-packages (from datasets) (4.66.4)\r\n",
      "Requirement already satisfied: xxhash in ./.venv/lib/python3.11/site-packages (from datasets) (3.4.1)\r\n",
      "Requirement already satisfied: multiprocess in ./.venv/lib/python3.11/site-packages (from datasets) (0.70.16)\r\n",
      "Requirement already satisfied: fsspec<=2024.3.1,>=2023.1.0 in ./.venv/lib/python3.11/site-packages (from fsspec[http]<=2024.3.1,>=2023.1.0->datasets) (2024.3.1)\r\n",
      "Requirement already satisfied: aiohttp in ./.venv/lib/python3.11/site-packages (from datasets) (3.9.5)\r\n",
      "Requirement already satisfied: huggingface-hub>=0.21.2 in ./.venv/lib/python3.11/site-packages (from datasets) (0.23.2)\r\n",
      "Requirement already satisfied: packaging in ./.venv/lib/python3.11/site-packages (from datasets) (24.0)\r\n",
      "Requirement already satisfied: pyyaml>=5.1 in ./.venv/lib/python3.11/site-packages (from datasets) (6.0.1)\r\n",
      "Requirement already satisfied: aiosignal>=1.1.2 in ./.venv/lib/python3.11/site-packages (from aiohttp->datasets) (1.3.1)\r\n",
      "Requirement already satisfied: attrs>=17.3.0 in ./.venv/lib/python3.11/site-packages (from aiohttp->datasets) (23.2.0)\r\n",
      "Requirement already satisfied: frozenlist>=1.1.1 in ./.venv/lib/python3.11/site-packages (from aiohttp->datasets) (1.4.1)\r\n",
      "Requirement already satisfied: multidict<7.0,>=4.5 in ./.venv/lib/python3.11/site-packages (from aiohttp->datasets) (6.0.5)\r\n",
      "Requirement already satisfied: yarl<2.0,>=1.0 in ./.venv/lib/python3.11/site-packages (from aiohttp->datasets) (1.9.4)\r\n",
      "Requirement already satisfied: typing-extensions>=3.7.4.3 in ./.venv/lib/python3.11/site-packages (from huggingface-hub>=0.21.2->datasets) (4.5.0)\r\n",
      "Requirement already satisfied: charset-normalizer<4,>=2 in ./.venv/lib/python3.11/site-packages (from requests>=2.19.0->datasets) (3.3.2)\r\n",
      "Requirement already satisfied: idna<4,>=2.5 in ./.venv/lib/python3.11/site-packages (from requests>=2.19.0->datasets) (3.7)\r\n",
      "Requirement already satisfied: urllib3<3,>=1.21.1 in ./.venv/lib/python3.11/site-packages (from requests>=2.19.0->datasets) (1.26.18)\r\n",
      "Requirement already satisfied: certifi>=2017.4.17 in ./.venv/lib/python3.11/site-packages (from requests>=2.19.0->datasets) (2024.2.2)\r\n",
      "Requirement already satisfied: python-dateutil>=2.8.2 in ./.venv/lib/python3.11/site-packages (from pandas->datasets) (2.9.0.post0)\r\n",
      "Requirement already satisfied: pytz>=2020.1 in ./.venv/lib/python3.11/site-packages (from pandas->datasets) (2024.1)\r\n",
      "Requirement already satisfied: tzdata>=2022.7 in ./.venv/lib/python3.11/site-packages (from pandas->datasets) (2024.1)\r\n",
      "Requirement already satisfied: six>=1.5 in ./.venv/lib/python3.11/site-packages (from python-dateutil>=2.8.2->pandas->datasets) (1.16.0)\r\n"
     ]
    }
   ],
   "source": [
    "# Real data\n",
    "!pip install datasets\n",
    "from datasets import load_dataset\n",
    "dataset = load_dataset(\"PlanTL-GOB-ES/sts-es\")"
   ],
   "metadata": {
    "id": "BhTzvKLn7GRP",
    "outputId": "af3a3615-1c09-4b6b-cae5-18c2e166e1b1",
    "colab": {
     "referenced_widgets": [
      "7e31674eb8f148f5b2dc7eb359df4e82",
      "dcdcb4f9968242f99aa3a6d96eec1e2d",
      "2ba7ebfcb13149d3a7e09f44554e8938",
      "317ccb26b55f45148f63dae7a4374e00",
      "0f14c341c2694a6ea6dfe6dfc4fa967a",
      "fa71dff1570049b6b80da30a6cdb928c",
      "6f834e3e0ee248afaa2a7fa1364b2a04",
      "5d4600cfee9b4a1ab056b4c08f2dbe1d",
      "3a2260bc78434ba1996c434eb021c660",
      "15fe494b4725464bab5da7edc6aff469",
      "2cd97ca4be4e4cb6bf8eedbe04e414a7",
      "13e0a577c0c24880be176a80a0d8b74b",
      "d492906490fe4ace9c313a718f4abba8",
      "69603de110cc4421823e7e333bd4e685",
      "5226c9b3b2144ff6ac70240f7068ea7c",
      "eca42b2a5a6d4cd1aeadccf98788d437",
      "c3094699e4144d4484cdbc4a2c1c6f8c",
      "8a5fd4af8da24c488809a8a0fd52e18d",
      "7422e6aca2a94701b1279f6eb9fcd2bb",
      "4f581b1435214a30ab2eb51d454e7384",
      "8c4f46eb7d9f460b81a53e33e7ef1f4c",
      "c42f5e73579843c9b3a7d4813a880988",
      "d02e35436b094095abdaea0e655e045f",
      "b222837b3c554ddebef43f6758119b7a",
      "e5136be72af745dcb43bb085a81f9594",
      "afe1d6c89f904810983b03f8846ee7ea",
      "98dc658518d4417d9622dcd34036790c",
      "45db6b98cfe2454eaf2a89fcaa77990b",
      "0619db8c587e407bbb71f4266ba59c9d",
      "7e080c2cb4ce4108a5f7d1de618d9158",
      "f7fa156e9e584c2696d5b6a3a06fe0e1",
      "67cd19f6c6764c2db8780d02e05b114a",
      "af4a503eaf8848a88f362b3f0ec6f9c9",
      "4a8ea3feb54e4403a860f51c40c60a65",
      "e5b529c0bda44d7fb498d12790d5fdb5",
      "797dccf1637a4865922892338fa78f32",
      "9482abdd534c4738bc8b0f24663091e7",
      "32be02674b0f42e8b8e324188ef9d597",
      "334900782e2e480ab10493cd6c0b8d8d",
      "756e1842cf684fea96b3ae0f1a82d279",
      "b0d7bbafb1a64bc49dd32b58a16d12d5",
      "acbfc2a44a2e43bf81ad705d73f520a3",
      "c988a28d112a4546b5a7519e3624f256",
      "c90b605d2ac149e0b4e27fcdd2a3b8b5",
      "cecae7e33f444016a8ab7f3f8e22ec38",
      "a81da08c8f514e5a89182a6aada68f55",
      "22ea76e1f2e3414cb55d079b234ecc38",
      "45050d82435943fd85fdf5991c060f1a",
      "3d2751a637c34ab28de8945e28def42a",
      "0df785030f164f39b7eb0fcbaf40cb10",
      "676a9315ef154923b7e5569b34df4e57",
      "a66b1b58a7ed4cb681600e49378f42a3",
      "7524b3f3a0da43088b780d68f10dd94c",
      "249808ece0894aaaaf1350ffdb41fc8b",
      "0a7ecba944724ab597f3fbfee5dadb44",
      "e02a69378cf0482b947fd30da495244e",
      "0b8c1047b47d4f39b5f8bde6a348704b",
      "840d77a93521462f8db2a6a868666d75",
      "e9e7c3248f32459296b5a4ee15cd999e",
      "144a8dcc90804accb8b5c96cf241f934",
      "ee135d6e1a8c4042b2d155609fcce7bb",
      "ef08bea292924aefbce06188388be7b0",
      "9d0c9302da5641888451cf1d6606d13f",
      "f2e3d9c72db64aca9610f5d5b6602733",
      "8373ee773feb41de804db1a71b11c391",
      "781c601df8f5449ab56fdf104869373c"
     ],
     "base_uri": "https://localhost:8080/",
     "height": 1000
    },
    "executionInfo": {
     "status": "ok",
     "timestamp": 1715597335408,
     "user_tz": -120,
     "elapsed": 21533,
     "user": {
      "displayName": "Dina Alfaro Diaz",
      "userId": "00309450318204567847"
     }
    },
    "ExecuteTime": {
     "end_time": "2024-05-28T09:59:02.451116Z",
     "start_time": "2024-05-28T09:58:57.179728Z"
    }
   }
  },
  {
   "cell_type": "code",
   "execution_count": 10,
   "outputs": [],
   "source": [
    "input_pairs = [(e[\"sentence1\"], e[\"sentence2\"], e[\"label\"], ) for e in dataset[\"train\"].to_list()]\n",
    "input_pairs_val = [(e[\"sentence1\"], e[\"sentence2\"], e[\"label\"], ) for e in dataset[\"validation\"].to_list()]\n",
    "input_pairs_test = [(e[\"sentence1\"], e[\"sentence2\"], e[\"label\"], ) for e in dataset[\"test\"].to_list()]"
   ],
   "metadata": {
    "id": "vQDyEimj7GRP",
    "executionInfo": {
     "status": "ok",
     "timestamp": 1715597378045,
     "user_tz": -120,
     "elapsed": 780,
     "user": {
      "displayName": "Dina Alfaro Diaz",
      "userId": "00309450318204567847"
     }
    },
    "ExecuteTime": {
     "end_time": "2024-05-28T09:59:02.460595Z",
     "start_time": "2024-05-28T09:59:02.451912Z"
    }
   }
  },
  {
   "cell_type": "code",
   "execution_count": 11,
   "outputs": [],
   "source": [
    "all_input_pairs = input_pairs + input_pairs_val + input_pairs_test\n",
    "# Preprocesamiento de las oraciones y creación del diccionario\n",
    "sentences_1_preproc = [simple_preprocess(sentence_1) for sentence_1, _, _ in all_input_pairs]\n",
    "sentences_2_preproc = [simple_preprocess(sentence_2) for _, sentence_2, _ in all_input_pairs]\n",
    "sentence_pairs = list(zip(sentences_1_preproc, sentences_2_preproc))\n",
    "# Versión aplanada para poder entrenar el modelo\n",
    "sentences_pairs_flattened = sentences_1_preproc + sentences_2_preproc\n",
    "diccionario = Dictionary(sentences_pairs_flattened)"
   ],
   "metadata": {
    "id": "rMqnONbQ7GRP",
    "executionInfo": {
     "status": "ok",
     "timestamp": 1715597409676,
     "user_tz": -120,
     "elapsed": 593,
     "user": {
      "displayName": "Dina Alfaro Diaz",
      "userId": "00309450318204567847"
     }
    },
    "ExecuteTime": {
     "end_time": "2024-05-28T09:59:02.561477Z",
     "start_time": "2024-05-28T09:59:02.462797Z"
    }
   }
  },
  {
   "cell_type": "code",
   "execution_count": 12,
   "outputs": [
    {
     "name": "stdout",
     "output_type": "stream",
     "text": [
      "(['según', 'el', 'sondeo', 'de', 'los', 'católicos', 'cree', 'que', 'francisco', 'está', 'haciendo', 'un', 'buen', 'excelente', 'trabajo'], ['el', 'de', 'los', 'católicos', 'del', 'mundo', 'aprobaron', 'el', 'trabajo', 'del', 'papa', 'reveló', 'una', 'encuesta', 'divulgada', 'el', 'domingo'])\n"
     ]
    }
   ],
   "source": [
    "print(sentence_pairs[0])"
   ],
   "metadata": {
    "id": "kyt-gWng7GRQ",
    "outputId": "9c091323-1ab4-46fb-96fd-939986444864",
    "colab": {
     "base_uri": "https://localhost:8080/"
    },
    "executionInfo": {
     "status": "ok",
     "timestamp": 1715597411656,
     "user_tz": -120,
     "elapsed": 575,
     "user": {
      "displayName": "Dina Alfaro Diaz",
      "userId": "00309450318204567847"
     }
    },
    "ExecuteTime": {
     "end_time": "2024-05-28T09:59:02.563822Z",
     "start_time": "2024-05-28T09:59:02.562060Z"
    }
   }
  },
  {
   "cell_type": "code",
   "execution_count": 13,
   "outputs": [],
   "source": [
    "# Cálculo de los pesos TF-IDF para las oraciones pre-procesadas\n",
    "corpus = [diccionario.doc2bow(sent) for sent in sentences_pairs_flattened]\n",
    "modelo_tfidf = TfidfModel(corpus)"
   ],
   "metadata": {
    "id": "0HYg0SVy7GRQ",
    "executionInfo": {
     "status": "ok",
     "timestamp": 1715597415528,
     "user_tz": -120,
     "elapsed": 412,
     "user": {
      "displayName": "Dina Alfaro Diaz",
      "userId": "00309450318204567847"
     }
    },
    "ExecuteTime": {
     "end_time": "2024-05-28T09:59:02.604166Z",
     "start_time": "2024-05-28T09:59:02.564663Z"
    }
   }
  },
  {
   "cell_type": "code",
   "execution_count": 14,
   "outputs": [],
   "source": [
    "def map_tf_idf(sentence_preproc: List[str], dictionary: Dictionary, tf_idf_model: TfidfModel) -> Tuple[List[np.ndarray], List[float]]:\n",
    "    bow = dictionary.doc2bow(sentence_preproc)\n",
    "    tf_idf = tf_idf_model[bow]\n",
    "    vectors, weights = [], []\n",
    "    for word_index, weight in tf_idf:\n",
    "        word = dictionary.get(word_index)\n",
    "        if word in wv_model:\n",
    "            vectors.append(wv_model[word])\n",
    "            weights.append(weight)\n",
    "    return vectors, weights\n",
    "\n",
    "def map_pairs(\n",
    "        sentence_pairs: List[Tuple[str, str, float]],\n",
    "        dictionary: Dictionary = None,\n",
    "        tf_idf_model: TfidfModel = None,\n",
    ") -> List[Tuple[Tuple[np.ndarray, np.ndarray], float]]:\n",
    "    # Mapeo de los pares de oraciones a pares de vectores\n",
    "    pares_vectores = []\n",
    "    for i, (sentence_1, sentence_2, similitud) in enumerate(sentence_pairs):\n",
    "        sentence_1_preproc = preprocess(sentence_1)\n",
    "        sentence_2_preproc = preprocess(sentence_2)\n",
    "        # Si usamos TF-IDF\n",
    "        if tf_idf_model is not None:\n",
    "            # Cálculo del promedio ponderado por TF-IDF de los word embeddings\n",
    "            vectors1, weights1 = map_tf_idf(sentence_1_preproc, dictionary=dictionary, tf_idf_model=tf_idf_model, )\n",
    "            vectors2, weights2 = map_tf_idf(sentence_2_preproc, dictionary=dictionary, tf_idf_model=tf_idf_model, )\n",
    "            vector1 = np.average(vectors1, weights=weights1, axis=0, )\n",
    "            vector2 = np.average(vectors2, weights=weights2, axis=0, )\n",
    "        else:\n",
    "            # Cálculo del promedio de los word embeddings\n",
    "            vectors1 = [wv_model[word] for word in sentence_1_preproc if word in wv_model]\n",
    "            vectors2 = [wv_model[word] for word in sentence_2_preproc if word in wv_model]\n",
    "            vector1 = np.mean(vectors1, axis=0)\n",
    "            vector2 = np.mean(vectors2, axis=0)\n",
    "        # Añadir a la lista\n",
    "        pares_vectores.append(((vector1, vector2), similitud))\n",
    "    return pares_vectores"
   ],
   "metadata": {
    "id": "aiXFyd9E7GRQ",
    "executionInfo": {
     "status": "ok",
     "timestamp": 1715597433369,
     "user_tz": -120,
     "elapsed": 456,
     "user": {
      "displayName": "Dina Alfaro Diaz",
      "userId": "00309450318204567847"
     }
    },
    "ExecuteTime": {
     "end_time": "2024-05-28T09:59:02.608679Z",
     "start_time": "2024-05-28T09:59:02.604885Z"
    }
   }
  },
  {
   "cell_type": "code",
   "execution_count": 15,
   "outputs": [],
   "source": [
    "# Imprimir los pares de vectores y la puntuación de similitud asociada\n",
    "mapped = map_pairs(input_pairs, tf_idf_model=modelo_tfidf, dictionary=diccionario, )\n",
    "# Imprimir los pares de vectores y la puntuación de similitud asociada\n",
    "mapped_train = map_pairs(input_pairs,  tf_idf_model=modelo_tfidf, dictionary=diccionario, )\n",
    "mapped_val = map_pairs(input_pairs_val, tf_idf_model=modelo_tfidf, dictionary=diccionario, )\n",
    "mapped_test = map_pairs(input_pairs_test, tf_idf_model=modelo_tfidf, dictionary=diccionario, )"
   ],
   "metadata": {
    "collapsed": false,
    "ExecuteTime": {
     "end_time": "2024-05-28T09:59:03.411990Z",
     "start_time": "2024-05-28T09:59:02.609287Z"
    }
   }
  },
  {
   "cell_type": "code",
   "outputs": [
    {
     "name": "stdout",
     "output_type": "stream",
     "text": [
      "Pares de vectores: (300,), (300,)\n",
      "Puntuación de similitud: 3.75\n",
      "Pares de vectores: (300,), (300,)\n",
      "Puntuación de similitud: 2.799999952316284\n",
      "Pares de vectores: (300,), (300,)\n",
      "Puntuación de similitud: 2.4000000953674316\n",
      "Pares de vectores: (300,), (300,)\n",
      "Puntuación de similitud: 2.200000047683716\n",
      "Pares de vectores: (300,), (300,)\n",
      "Puntuación de similitud: 2.200000047683716\n"
     ]
    }
   ],
   "source": [
    "for vectors, similitud in mapped[:5]:\n",
    "    print(f\"Pares de vectores: {vectors[0].shape}, {vectors[1].shape}\")\n",
    "    print(f\"Puntuación de similitud: {similitud}\")"
   ],
   "metadata": {
    "id": "MgiwMu8x7GRR",
    "outputId": "aca792a1-8fd7-444c-ed14-9e17357287ac",
    "colab": {
     "base_uri": "https://localhost:8080/"
    },
    "executionInfo": {
     "status": "ok",
     "timestamp": 1715597441300,
     "user_tz": -120,
     "elapsed": 2504,
     "user": {
      "displayName": "Dina Alfaro Diaz",
      "userId": "00309450318204567847"
     }
    },
    "ExecuteTime": {
     "end_time": "2024-05-28T09:59:03.415028Z",
     "start_time": "2024-05-28T09:59:03.412652Z"
    }
   },
   "execution_count": 16
  },
  {
   "cell_type": "code",
   "execution_count": 752,
   "outputs": [],
   "source": [
    "# Define the Model\n",
    "import tensorflow as tf\n",
    "\n",
    "def build_and_compile_model(embedding_size: int = 300, learning_rate: float = 1e-3) -> tf.keras.Model:\n",
    "    # Capa de entrada para los pares de vectores\n",
    "    input_1 = tf.keras.Input(shape=(embedding_size,))\n",
    "    input_2 = tf.keras.Input(shape=(embedding_size,))\n",
    "\n",
    "    # Hidden layer\n",
    "    first_projection = tf.keras.layers.Dense(\n",
    "        embedding_size,\n",
    "        kernel_initializer=tf.keras.initializers.Identity(),\n",
    "        bias_initializer=tf.keras.initializers.Zeros(),\n",
    "    )\n",
    "    projected_1 = first_projection(input_1)\n",
    "    projected_2 = first_projection(input_2)\n",
    "    \n",
    "    # Compute the cosine distance using a Lambda layer\n",
    "    def cosine_distance(x):\n",
    "        x1, x2 = x\n",
    "        x1_normalized = tf.keras.backend.l2_normalize(x1, axis=1)\n",
    "        x2_normalized = tf.keras.backend.l2_normalize(x2, axis=1)\n",
    "        return 2.5 * (1.0 + tf.reduce_sum(x1_normalized * x2_normalized, axis=1))\n",
    "\n",
    "    output = tf.keras.layers.Lambda(cosine_distance)([projected_1, projected_2])\n",
    "    # Define output\n",
    "    model = tf.keras.Model(inputs=[input_1, input_2], outputs=output)\n",
    "\n",
    "    # Compile the model\n",
    "    model.compile(loss='mean_squared_error',\n",
    "                  optimizer=tf.keras.optimizers.Adamax(learning_rate))\n",
    "    return model"
   ],
   "metadata": {
    "id": "G0_GXuUJ7GRR",
    "executionInfo": {
     "status": "ok",
     "timestamp": 1715599333530,
     "user_tz": -120,
     "elapsed": 219,
     "user": {
      "displayName": "Dina Alfaro Diaz",
      "userId": "00309450318204567847"
     }
    },
    "ExecuteTime": {
     "end_time": "2024-05-28T12:46:39.753349Z",
     "start_time": "2024-05-28T12:46:39.746306Z"
    }
   }
  },
  {
   "cell_type": "code",
   "outputs": [],
   "source": [
    "def build_and_compile_model_better(embedding_size: int = 300, learning_rate: float = 1e-3) -> tf.keras.Model:\n",
    "    # Capa de entrada para los pares de vectores\n",
    "    input_1 = tf.keras.Input(shape=(embedding_size,))\n",
    "    input_2 = tf.keras.Input(shape=(embedding_size,))\n",
    "\n",
    "    # Hidden layer\n",
    "    first_projection = tf.keras.layers.Dense(\n",
    "        embedding_size,\n",
    "        kernel_initializer=tf.keras.initializers.Identity(),\n",
    "        bias_initializer=tf.keras.initializers.Zeros(),\n",
    "    )\n",
    "    projected_1 =  first_projection(input_1)\n",
    "    projected_2 = first_projection(input_2)\n",
    "    \n",
    "    # Compute the cosine distance using a Lambda layer\n",
    "    def normalized_product(x):\n",
    "        x1, x2 = x\n",
    "        x1_normalized = tf.keras.backend.l2_normalize(x1, axis=1)\n",
    "        x2_normalized = tf.keras.backend.l2_normalize(x2, axis=1)\n",
    "        return x1_normalized * x2_normalized\n",
    "\n",
    "    output = tf.keras.layers.Lambda(normalized_product)([projected_1, projected_2])\n",
    "    output = tf.keras.layers.Dropout(0.1)(output)\n",
    "    output = tf.keras.layers.Dense(\n",
    "        16,\n",
    "        activation=\"relu\",\n",
    "    )(output)\n",
    "    output = tf.keras.layers.Dropout(0.2)(output)\n",
    "    output = tf.keras.layers.Dense(\n",
    "        1,\n",
    "        activation=\"sigmoid\",\n",
    "    )(output)\n",
    "    \n",
    "    output = tf.keras.layers.Lambda(lambda x: x * 5)(output)\n",
    "    \n",
    "    # Define output\n",
    "    model = tf.keras.Model(inputs=[input_1, input_2], outputs=output)\n",
    "\n",
    "    # Compile the model\n",
    "    model.compile(loss='mean_squared_error',\n",
    "                  optimizer=tf.keras.optimizers.Adam(learning_rate))\n",
    "    return model"
   ],
   "metadata": {
    "collapsed": false,
    "ExecuteTime": {
     "end_time": "2024-05-28T12:46:39.936328Z",
     "start_time": "2024-05-28T12:46:39.931754Z"
    }
   },
   "execution_count": 753
  },
  {
   "cell_type": "code",
   "execution_count": 754,
   "outputs": [],
   "source": [
    "# Define training constants\n",
    "batch_size: int = 64\n",
    "num_epochs: int = 64"
   ],
   "metadata": {
    "id": "ZoIGVYnV7GRR",
    "executionInfo": {
     "status": "ok",
     "timestamp": 1715597604879,
     "user_tz": -120,
     "elapsed": 962,
     "user": {
      "displayName": "Dina Alfaro Diaz",
      "userId": "00309450318204567847"
     }
    },
    "ExecuteTime": {
     "end_time": "2024-05-28T12:46:40.098561Z",
     "start_time": "2024-05-28T12:46:40.095327Z"
    }
   }
  },
  {
   "cell_type": "code",
   "execution_count": 755,
   "outputs": [],
   "source": [
    "def pair_list_to_x_y(pair_list: List[Tuple[Tuple[np.ndarray, np.ndarray], int]]) -> Tuple[Tuple[np.ndarray, np.ndarray], np.ndarray]:\n",
    "    _x, _y = zip(*pair_list)\n",
    "    _x_1, _x_2 = zip(*_x)\n",
    "    return (np.array(_x_1), np.array(_x_2)), np.array(_y, dtype=np.float32, )\n",
    "\n",
    "# Obtener las listas de train y test\n",
    "x_train, y_train = pair_list_to_x_y(mapped_train)\n",
    "x_val, y_val = pair_list_to_x_y(mapped_val)"
   ],
   "metadata": {
    "id": "tNU34wZK7GRR",
    "executionInfo": {
     "status": "ok",
     "timestamp": 1715597607241,
     "user_tz": -120,
     "elapsed": 2,
     "user": {
      "displayName": "Dina Alfaro Diaz",
      "userId": "00309450318204567847"
     }
    },
    "ExecuteTime": {
     "end_time": "2024-05-28T12:46:40.292657Z",
     "start_time": "2024-05-28T12:46:40.282719Z"
    }
   }
  },
  {
   "cell_type": "code",
   "execution_count": 756,
   "outputs": [],
   "source": [
    "# Preparar los conjuntos de datos de entrenamiento y validación\n",
    "train_dataset = tf.data.Dataset.from_tensor_slices((x_train, y_train))\n",
    "train_dataset = train_dataset.shuffle(buffer_size=len(x_train)).batch(batch_size)\n",
    "\n",
    "val_dataset = tf.data.Dataset.from_tensor_slices((x_val, y_val))\n",
    "val_dataset = val_dataset.batch(batch_size)"
   ],
   "metadata": {
    "id": "XElxzMpa7GRR",
    "executionInfo": {
     "status": "ok",
     "timestamp": 1715597609867,
     "user_tz": -120,
     "elapsed": 1,
     "user": {
      "displayName": "Dina Alfaro Diaz",
      "userId": "00309450318204567847"
     }
    },
    "ExecuteTime": {
     "end_time": "2024-05-28T12:46:40.601343Z",
     "start_time": "2024-05-28T12:46:40.591404Z"
    }
   }
  },
  {
   "cell_type": "code",
   "outputs": [
    {
     "data": {
      "text/plain": "((1320, 300), (1320, 300), (1320,))"
     },
     "execution_count": 757,
     "metadata": {},
     "output_type": "execute_result"
    }
   ],
   "source": [
    "# Show shapes\n",
    "x_train[0].shape, x_train[1].shape, y_train.shape"
   ],
   "metadata": {
    "collapsed": false,
    "ExecuteTime": {
     "end_time": "2024-05-28T12:46:40.762267Z",
     "start_time": "2024-05-28T12:46:40.759596Z"
    }
   },
   "execution_count": 757
  },
  {
   "cell_type": "code",
   "source": [
    "# Construir y compilar el modelo\n",
    "model = build_and_compile_model()\n",
    "#tf.keras.utils.plot_model(model, show_shapes=True, show_layer_activations=True, )\n",
    "print(model.summary())"
   ],
   "metadata": {
    "collapsed": false,
    "ExecuteTime": {
     "end_time": "2024-05-28T12:46:40.960340Z",
     "start_time": "2024-05-28T12:46:40.922757Z"
    }
   },
   "execution_count": 758,
   "outputs": [
    {
     "name": "stderr",
     "output_type": "stream",
     "text": [
      "WARNING:absl:At this time, the v2.11+ optimizer `tf.keras.optimizers.Adamax` runs slowly on M1/M2 Macs, please use the legacy Keras optimizer instead, located at `tf.keras.optimizers.legacy.Adamax`.\n"
     ]
    },
    {
     "name": "stdout",
     "output_type": "stream",
     "text": [
      "Model: \"model_72\"\n",
      "__________________________________________________________________________________________________\n",
      " Layer (type)                Output Shape                 Param #   Connected to                  \n",
      "==================================================================================================\n",
      " input_149 (InputLayer)      [(None, 300)]                0         []                            \n",
      "                                                                                                  \n",
      " input_150 (InputLayer)      [(None, 300)]                0         []                            \n",
      "                                                                                                  \n",
      " dense_175 (Dense)           (None, 300)                  90300     ['input_149[0][0]',           \n",
      "                                                                     'input_150[0][0]']           \n",
      "                                                                                                  \n",
      " lambda_125 (Lambda)         (None,)                      0         ['dense_175[0][0]',           \n",
      "                                                                     'dense_175[1][0]']           \n",
      "                                                                                                  \n",
      "==================================================================================================\n",
      "Total params: 90300 (352.73 KB)\n",
      "Trainable params: 90300 (352.73 KB)\n",
      "Non-trainable params: 0 (0.00 Byte)\n",
      "__________________________________________________________________________________________________\n",
      "None\n"
     ]
    }
   ]
  },
  {
   "cell_type": "code",
   "execution_count": 759,
   "outputs": [
    {
     "name": "stdout",
     "output_type": "stream",
     "text": [
      "Epoch 1/64\n",
      "21/21 [==============================] - 0s 3ms/step - loss: 4.6026 - val_loss: 3.6652\n",
      "Epoch 2/64\n",
      "21/21 [==============================] - 0s 1ms/step - loss: 3.2546 - val_loss: 3.0292\n",
      "Epoch 3/64\n",
      "21/21 [==============================] - 0s 1ms/step - loss: 2.7970 - val_loss: 2.8161\n",
      "Epoch 4/64\n",
      "21/21 [==============================] - 0s 1ms/step - loss: 2.5734 - val_loss: 2.7083\n",
      "Epoch 5/64\n",
      "21/21 [==============================] - 0s 1ms/step - loss: 2.4063 - val_loss: 2.6327\n",
      "Epoch 6/64\n",
      "21/21 [==============================] - 0s 1ms/step - loss: 2.2649 - val_loss: 2.5747\n",
      "Epoch 7/64\n",
      "21/21 [==============================] - 0s 1ms/step - loss: 2.1412 - val_loss: 2.5286\n",
      "Epoch 8/64\n",
      "21/21 [==============================] - 0s 1ms/step - loss: 2.0307 - val_loss: 2.4914\n",
      "Epoch 9/64\n",
      "21/21 [==============================] - 0s 1ms/step - loss: 1.9310 - val_loss: 2.4599\n",
      "Epoch 10/64\n",
      "21/21 [==============================] - 0s 1ms/step - loss: 1.8401 - val_loss: 2.4339\n",
      "Epoch 11/64\n",
      "21/21 [==============================] - 0s 1ms/step - loss: 1.7564 - val_loss: 2.4115\n",
      "Epoch 12/64\n",
      "21/21 [==============================] - 0s 1ms/step - loss: 1.6793 - val_loss: 2.3928\n",
      "Epoch 13/64\n",
      "21/21 [==============================] - 0s 1ms/step - loss: 1.6075 - val_loss: 2.3762\n",
      "Epoch 14/64\n",
      "21/21 [==============================] - 0s 1ms/step - loss: 1.5412 - val_loss: 2.3620\n",
      "Epoch 15/64\n",
      "21/21 [==============================] - 0s 1ms/step - loss: 1.4793 - val_loss: 2.3494\n",
      "Epoch 16/64\n",
      "21/21 [==============================] - 0s 1ms/step - loss: 1.4215 - val_loss: 2.3383\n",
      "Epoch 17/64\n",
      "21/21 [==============================] - 0s 1ms/step - loss: 1.3672 - val_loss: 2.3290\n",
      "Epoch 18/64\n",
      "21/21 [==============================] - 0s 1ms/step - loss: 1.3165 - val_loss: 2.3200\n",
      "Epoch 19/64\n",
      "21/21 [==============================] - 0s 1ms/step - loss: 1.2690 - val_loss: 2.3125\n",
      "Epoch 20/64\n",
      "21/21 [==============================] - 0s 1ms/step - loss: 1.2239 - val_loss: 2.3047\n",
      "Epoch 21/64\n",
      "21/21 [==============================] - 0s 1ms/step - loss: 1.1817 - val_loss: 2.2983\n",
      "Epoch 22/64\n",
      "21/21 [==============================] - 0s 1ms/step - loss: 1.1417 - val_loss: 2.2921\n",
      "Epoch 23/64\n",
      "21/21 [==============================] - 0s 1ms/step - loss: 1.1043 - val_loss: 2.2861\n",
      "Epoch 24/64\n",
      "21/21 [==============================] - 0s 2ms/step - loss: 1.0685 - val_loss: 2.2811\n",
      "Epoch 25/64\n",
      "21/21 [==============================] - 0s 1ms/step - loss: 1.0349 - val_loss: 2.2760\n",
      "Epoch 26/64\n",
      "21/21 [==============================] - 0s 1ms/step - loss: 1.0029 - val_loss: 2.2713\n",
      "Epoch 27/64\n",
      "21/21 [==============================] - 0s 1ms/step - loss: 0.9722 - val_loss: 2.2667\n",
      "Epoch 28/64\n",
      "21/21 [==============================] - 0s 1ms/step - loss: 0.9432 - val_loss: 2.2615\n",
      "Epoch 29/64\n",
      "21/21 [==============================] - 0s 1ms/step - loss: 0.9158 - val_loss: 2.2573\n",
      "Epoch 30/64\n",
      "21/21 [==============================] - 0s 1ms/step - loss: 0.8894 - val_loss: 2.2525\n",
      "Epoch 31/64\n",
      "21/21 [==============================] - 0s 1ms/step - loss: 0.8644 - val_loss: 2.2487\n",
      "Epoch 32/64\n",
      "21/21 [==============================] - 0s 1ms/step - loss: 0.8402 - val_loss: 2.2449\n",
      "Epoch 33/64\n",
      "21/21 [==============================] - 0s 1ms/step - loss: 0.8172 - val_loss: 2.2408\n",
      "Epoch 34/64\n",
      "21/21 [==============================] - 0s 1ms/step - loss: 0.7954 - val_loss: 2.2369\n",
      "Epoch 35/64\n",
      "21/21 [==============================] - 0s 1ms/step - loss: 0.7740 - val_loss: 2.2338\n",
      "Epoch 36/64\n",
      "21/21 [==============================] - 0s 1ms/step - loss: 0.7538 - val_loss: 2.2303\n",
      "Epoch 37/64\n",
      "21/21 [==============================] - 0s 1ms/step - loss: 0.7340 - val_loss: 2.2274\n",
      "Epoch 38/64\n",
      "21/21 [==============================] - 0s 1ms/step - loss: 0.7155 - val_loss: 2.2245\n",
      "Epoch 39/64\n",
      "21/21 [==============================] - 0s 1ms/step - loss: 0.6977 - val_loss: 2.2214\n",
      "Epoch 40/64\n",
      "21/21 [==============================] - 0s 1ms/step - loss: 0.6803 - val_loss: 2.2187\n",
      "Epoch 41/64\n",
      "21/21 [==============================] - 0s 1ms/step - loss: 0.6637 - val_loss: 2.2168\n",
      "Epoch 42/64\n",
      "21/21 [==============================] - 0s 1ms/step - loss: 0.6478 - val_loss: 2.2149\n",
      "Epoch 43/64\n",
      "21/21 [==============================] - 0s 1ms/step - loss: 0.6326 - val_loss: 2.2120\n",
      "Epoch 44/64\n",
      "21/21 [==============================] - 0s 1ms/step - loss: 0.6175 - val_loss: 2.2104\n",
      "Epoch 45/64\n",
      "21/21 [==============================] - 0s 1ms/step - loss: 0.6034 - val_loss: 2.2094\n",
      "Epoch 46/64\n",
      "21/21 [==============================] - 0s 1ms/step - loss: 0.5895 - val_loss: 2.2077\n",
      "Epoch 47/64\n",
      "21/21 [==============================] - 0s 1ms/step - loss: 0.5762 - val_loss: 2.2063\n",
      "Epoch 48/64\n",
      "21/21 [==============================] - 0s 1ms/step - loss: 0.5633 - val_loss: 2.2039\n",
      "Epoch 49/64\n",
      "21/21 [==============================] - 0s 1ms/step - loss: 0.5510 - val_loss: 2.2019\n",
      "Epoch 50/64\n",
      "21/21 [==============================] - 0s 1ms/step - loss: 0.5390 - val_loss: 2.2018\n",
      "Epoch 51/64\n",
      "21/21 [==============================] - 0s 1ms/step - loss: 0.5275 - val_loss: 2.2000\n",
      "Epoch 52/64\n",
      "21/21 [==============================] - 0s 1ms/step - loss: 0.5163 - val_loss: 2.1984\n",
      "Epoch 53/64\n",
      "21/21 [==============================] - 0s 1ms/step - loss: 0.5055 - val_loss: 2.1981\n",
      "Epoch 54/64\n",
      "21/21 [==============================] - 0s 1ms/step - loss: 0.4949 - val_loss: 2.1959\n",
      "Epoch 55/64\n",
      "21/21 [==============================] - 0s 1ms/step - loss: 0.4845 - val_loss: 2.1944\n",
      "Epoch 56/64\n",
      "21/21 [==============================] - 0s 1ms/step - loss: 0.4745 - val_loss: 2.1945\n",
      "Epoch 57/64\n",
      "21/21 [==============================] - 0s 1ms/step - loss: 0.4648 - val_loss: 2.1935\n",
      "Epoch 58/64\n",
      "21/21 [==============================] - 0s 1ms/step - loss: 0.4552 - val_loss: 2.1939\n",
      "Epoch 59/64\n",
      "21/21 [==============================] - 0s 1ms/step - loss: 0.4458 - val_loss: 2.1931\n",
      "Epoch 60/64\n",
      "21/21 [==============================] - 0s 1ms/step - loss: 0.4363 - val_loss: 2.1937\n",
      "Epoch 61/64\n",
      "21/21 [==============================] - 0s 1ms/step - loss: 0.4270 - val_loss: 2.1937\n",
      "Epoch 62/64\n",
      "21/21 [==============================] - 0s 1ms/step - loss: 0.4183 - val_loss: 2.1940\n",
      "Epoch 63/64\n",
      "21/21 [==============================] - 0s 1ms/step - loss: 0.4100 - val_loss: 2.1947\n",
      "Epoch 64/64\n",
      "21/21 [==============================] - 0s 1ms/step - loss: 0.4024 - val_loss: 2.1941\n"
     ]
    },
    {
     "data": {
      "text/plain": "<keras.src.callbacks.History at 0x3857fd950>"
     },
     "execution_count": 759,
     "metadata": {},
     "output_type": "execute_result"
    }
   ],
   "source": [
    "# Train the model\n",
    "model.fit(train_dataset, epochs=num_epochs, validation_data=val_dataset)"
   ],
   "metadata": {
    "id": "U2krsMjT7GRR",
    "outputId": "49b6c7ed-e0e7-4e56-c10e-bec86d3b3622",
    "colab": {
     "base_uri": "https://localhost:8080/"
    },
    "executionInfo": {
     "status": "ok",
     "timestamp": 1715597768228,
     "user_tz": -120,
     "elapsed": 8946,
     "user": {
      "displayName": "Dina Alfaro Diaz",
      "userId": "00309450318204567847"
     }
    },
    "ExecuteTime": {
     "end_time": "2024-05-28T12:46:43.103664Z",
     "start_time": "2024-05-28T12:46:41.094851Z"
    }
   }
  },
  {
   "cell_type": "code",
   "execution_count": 760,
   "outputs": [],
   "source": [
    "from scipy.stats import pearsonr\n",
    "x_test, y_test = pair_list_to_x_y(mapped_test)"
   ],
   "metadata": {
    "id": "ndZy32667GRR",
    "executionInfo": {
     "status": "ok",
     "timestamp": 1715598070173,
     "user_tz": -120,
     "elapsed": 490,
     "user": {
      "displayName": "Dina Alfaro Diaz",
      "userId": "00309450318204567847"
     }
    },
    "ExecuteTime": {
     "end_time": "2024-05-28T12:46:43.106894Z",
     "start_time": "2024-05-28T12:46:43.104650Z"
    }
   }
  },
  {
   "cell_type": "code",
   "execution_count": 761,
   "outputs": [
    {
     "name": "stdout",
     "output_type": "stream",
     "text": [
      "Correlación de Pearson (baseline-train): 0.6183244864535127\n",
      "Correlación de Pearson (baseline-validation): 0.7813210222946088\n",
      "Correlación de Pearson (baseline-test): 0.6335381615219905\n"
     ]
    }
   ],
   "source": [
    "# Baseline\n",
    "def compute_pearson_baseline(x_, y_):\n",
    "    y_pred_baseline = []\n",
    "    for v1, v2 in zip(*x_):\n",
    "        d = 1.0 - spatial.distance.cosine(v1, v2)\n",
    "        y_pred_baseline.append(d)\n",
    "    # Calcular la correlación de Pearson entre las predicciones y los datos de prueba\n",
    "    correlation, _ = pearsonr(y_pred_baseline, y_.flatten())\n",
    "    return correlation\n",
    "# Imprimir el coeficiente de correlación de Pearson\n",
    "print(f\"Correlación de Pearson (baseline-train): {compute_pearson_baseline(x_train, y_train)}\")\n",
    "print(f\"Correlación de Pearson (baseline-validation): {compute_pearson_baseline(x_val, y_val)}\")\n",
    "print(f\"Correlación de Pearson (baseline-test): {compute_pearson_baseline(x_test, y_test)}\")"
   ],
   "metadata": {
    "id": "b2vGHeNg7GRR",
    "outputId": "1c25de9f-345c-44c7-ce46-9e09213dd479",
    "colab": {
     "base_uri": "https://localhost:8080/"
    },
    "executionInfo": {
     "status": "ok",
     "timestamp": 1715598073380,
     "user_tz": -120,
     "elapsed": 276,
     "user": {
      "displayName": "Dina Alfaro Diaz",
      "userId": "00309450318204567847"
     }
    },
    "ExecuteTime": {
     "end_time": "2024-05-28T12:46:43.125798Z",
     "start_time": "2024-05-28T12:46:43.107428Z"
    }
   }
  },
  {
   "cell_type": "code",
   "execution_count": 762,
   "outputs": [
    {
     "name": "stdout",
     "output_type": "stream",
     "text": [
      "42/42 [==============================] - 0s 768us/step\n",
      "Correlación de Pearson (train): 0.9304827865557197\n",
      "3/3 [==============================] - 0s 1ms/step\n",
      "Correlación de Pearson (validation): 0.6014932513445799\n",
      "5/5 [==============================] - 0s 796us/step\n",
      "Correlación de Pearson (test): 0.6084397809211268\n"
     ]
    }
   ],
   "source": [
    "def compute_pearson(x_, y_):\n",
    "    # Obtener las predicciones del modelo para los datos de prueba. En este ejemplo vamos a utilizar el corpus de training.\n",
    "    y_pred = model.predict(x_)\n",
    "    # Calcular la correlación de Pearson entre las predicciones y los datos de prueba\n",
    "    correlation, _ = pearsonr(y_pred.flatten(), y_.flatten())\n",
    "    return correlation\n",
    "# Imprimir el coeficiente de correlación de Pearson\n",
    "print(f\"Correlación de Pearson (train): {compute_pearson(x_train, y_train)}\")\n",
    "print(f\"Correlación de Pearson (validation): {compute_pearson(x_val, y_val)}\")\n",
    "print(f\"Correlación de Pearson (test): {compute_pearson(x_test, y_test)}\")"
   ],
   "metadata": {
    "id": "Qeq6GdH77GRR",
    "outputId": "7259df4b-208c-4e37-fb8e-5cc35d92bb6e",
    "colab": {
     "base_uri": "https://localhost:8080/"
    },
    "executionInfo": {
     "status": "ok",
     "timestamp": 1715598078078,
     "user_tz": -120,
     "elapsed": 1143,
     "user": {
      "displayName": "Dina Alfaro Diaz",
      "userId": "00309450318204567847"
     }
    },
    "ExecuteTime": {
     "end_time": "2024-05-28T12:46:43.294476Z",
     "start_time": "2024-05-28T12:46:43.129327Z"
    }
   }
  },
  {
   "cell_type": "code",
   "outputs": [],
   "source": [],
   "metadata": {
    "collapsed": false,
    "ExecuteTime": {
     "end_time": "2024-05-28T12:43:05.056833Z",
     "start_time": "2024-05-28T12:43:05.055539Z"
    }
   },
   "execution_count": 720
  },
  {
   "cell_type": "code",
   "outputs": [],
   "source": [],
   "metadata": {
    "collapsed": false
   }
  }
 ],
 "metadata": {
  "kernelspec": {
   "display_name": "Python 3",
   "language": "python",
   "name": "python3"
  },
  "language_info": {
   "codemirror_mode": {
    "name": "ipython",
    "version": 2
   },
   "file_extension": ".py",
   "mimetype": "text/x-python",
   "name": "python",
   "nbconvert_exporter": "python",
   "pygments_lexer": "ipython2",
   "version": "2.7.6"
  },
  "colab": {
   "provenance": [
    {
     "file_id": "1nS7eeXC23ihx7SKJH1jpUIptOC9W_I1q",
     "timestamp": 1715595784255
    },
    {
     "file_id": "1ADkVK-II3TlSe3DsSUeiZUP4rirhPhl8",
     "timestamp": 1714923604128
    }
   ]
  },
  "widgets": {
   "application/vnd.jupyter.widget-state+json": {
    "7e31674eb8f148f5b2dc7eb359df4e82": {
     "model_module": "@jupyter-widgets/controls",
     "model_name": "HBoxModel",
     "model_module_version": "1.5.0",
     "state": {
      "_dom_classes": [],
      "_model_module": "@jupyter-widgets/controls",
      "_model_module_version": "1.5.0",
      "_model_name": "HBoxModel",
      "_view_count": null,
      "_view_module": "@jupyter-widgets/controls",
      "_view_module_version": "1.5.0",
      "_view_name": "HBoxView",
      "box_style": "",
      "children": [
       "IPY_MODEL_dcdcb4f9968242f99aa3a6d96eec1e2d",
       "IPY_MODEL_2ba7ebfcb13149d3a7e09f44554e8938",
       "IPY_MODEL_317ccb26b55f45148f63dae7a4374e00"
      ],
      "layout": "IPY_MODEL_0f14c341c2694a6ea6dfe6dfc4fa967a"
     }
    },
    "dcdcb4f9968242f99aa3a6d96eec1e2d": {
     "model_module": "@jupyter-widgets/controls",
     "model_name": "HTMLModel",
     "model_module_version": "1.5.0",
     "state": {
      "_dom_classes": [],
      "_model_module": "@jupyter-widgets/controls",
      "_model_module_version": "1.5.0",
      "_model_name": "HTMLModel",
      "_view_count": null,
      "_view_module": "@jupyter-widgets/controls",
      "_view_module_version": "1.5.0",
      "_view_name": "HTMLView",
      "description": "",
      "description_tooltip": null,
      "layout": "IPY_MODEL_fa71dff1570049b6b80da30a6cdb928c",
      "placeholder": "​",
      "style": "IPY_MODEL_6f834e3e0ee248afaa2a7fa1364b2a04",
      "value": "Downloading data: 100%"
     }
    },
    "2ba7ebfcb13149d3a7e09f44554e8938": {
     "model_module": "@jupyter-widgets/controls",
     "model_name": "FloatProgressModel",
     "model_module_version": "1.5.0",
     "state": {
      "_dom_classes": [],
      "_model_module": "@jupyter-widgets/controls",
      "_model_module_version": "1.5.0",
      "_model_name": "FloatProgressModel",
      "_view_count": null,
      "_view_module": "@jupyter-widgets/controls",
      "_view_module_version": "1.5.0",
      "_view_name": "ProgressView",
      "bar_style": "success",
      "description": "",
      "description_tooltip": null,
      "layout": "IPY_MODEL_5d4600cfee9b4a1ab056b4c08f2dbe1d",
      "max": 343339,
      "min": 0,
      "orientation": "horizontal",
      "style": "IPY_MODEL_3a2260bc78434ba1996c434eb021c660",
      "value": 343339
     }
    },
    "317ccb26b55f45148f63dae7a4374e00": {
     "model_module": "@jupyter-widgets/controls",
     "model_name": "HTMLModel",
     "model_module_version": "1.5.0",
     "state": {
      "_dom_classes": [],
      "_model_module": "@jupyter-widgets/controls",
      "_model_module_version": "1.5.0",
      "_model_name": "HTMLModel",
      "_view_count": null,
      "_view_module": "@jupyter-widgets/controls",
      "_view_module_version": "1.5.0",
      "_view_name": "HTMLView",
      "description": "",
      "description_tooltip": null,
      "layout": "IPY_MODEL_15fe494b4725464bab5da7edc6aff469",
      "placeholder": "​",
      "style": "IPY_MODEL_2cd97ca4be4e4cb6bf8eedbe04e414a7",
      "value": " 343k/343k [00:00&lt;00:00, 843kB/s]"
     }
    },
    "0f14c341c2694a6ea6dfe6dfc4fa967a": {
     "model_module": "@jupyter-widgets/base",
     "model_name": "LayoutModel",
     "model_module_version": "1.2.0",
     "state": {
      "_model_module": "@jupyter-widgets/base",
      "_model_module_version": "1.2.0",
      "_model_name": "LayoutModel",
      "_view_count": null,
      "_view_module": "@jupyter-widgets/base",
      "_view_module_version": "1.2.0",
      "_view_name": "LayoutView",
      "align_content": null,
      "align_items": null,
      "align_self": null,
      "border": null,
      "bottom": null,
      "display": null,
      "flex": null,
      "flex_flow": null,
      "grid_area": null,
      "grid_auto_columns": null,
      "grid_auto_flow": null,
      "grid_auto_rows": null,
      "grid_column": null,
      "grid_gap": null,
      "grid_row": null,
      "grid_template_areas": null,
      "grid_template_columns": null,
      "grid_template_rows": null,
      "height": null,
      "justify_content": null,
      "justify_items": null,
      "left": null,
      "margin": null,
      "max_height": null,
      "max_width": null,
      "min_height": null,
      "min_width": null,
      "object_fit": null,
      "object_position": null,
      "order": null,
      "overflow": null,
      "overflow_x": null,
      "overflow_y": null,
      "padding": null,
      "right": null,
      "top": null,
      "visibility": null,
      "width": null
     }
    },
    "fa71dff1570049b6b80da30a6cdb928c": {
     "model_module": "@jupyter-widgets/base",
     "model_name": "LayoutModel",
     "model_module_version": "1.2.0",
     "state": {
      "_model_module": "@jupyter-widgets/base",
      "_model_module_version": "1.2.0",
      "_model_name": "LayoutModel",
      "_view_count": null,
      "_view_module": "@jupyter-widgets/base",
      "_view_module_version": "1.2.0",
      "_view_name": "LayoutView",
      "align_content": null,
      "align_items": null,
      "align_self": null,
      "border": null,
      "bottom": null,
      "display": null,
      "flex": null,
      "flex_flow": null,
      "grid_area": null,
      "grid_auto_columns": null,
      "grid_auto_flow": null,
      "grid_auto_rows": null,
      "grid_column": null,
      "grid_gap": null,
      "grid_row": null,
      "grid_template_areas": null,
      "grid_template_columns": null,
      "grid_template_rows": null,
      "height": null,
      "justify_content": null,
      "justify_items": null,
      "left": null,
      "margin": null,
      "max_height": null,
      "max_width": null,
      "min_height": null,
      "min_width": null,
      "object_fit": null,
      "object_position": null,
      "order": null,
      "overflow": null,
      "overflow_x": null,
      "overflow_y": null,
      "padding": null,
      "right": null,
      "top": null,
      "visibility": null,
      "width": null
     }
    },
    "6f834e3e0ee248afaa2a7fa1364b2a04": {
     "model_module": "@jupyter-widgets/controls",
     "model_name": "DescriptionStyleModel",
     "model_module_version": "1.5.0",
     "state": {
      "_model_module": "@jupyter-widgets/controls",
      "_model_module_version": "1.5.0",
      "_model_name": "DescriptionStyleModel",
      "_view_count": null,
      "_view_module": "@jupyter-widgets/base",
      "_view_module_version": "1.2.0",
      "_view_name": "StyleView",
      "description_width": ""
     }
    },
    "5d4600cfee9b4a1ab056b4c08f2dbe1d": {
     "model_module": "@jupyter-widgets/base",
     "model_name": "LayoutModel",
     "model_module_version": "1.2.0",
     "state": {
      "_model_module": "@jupyter-widgets/base",
      "_model_module_version": "1.2.0",
      "_model_name": "LayoutModel",
      "_view_count": null,
      "_view_module": "@jupyter-widgets/base",
      "_view_module_version": "1.2.0",
      "_view_name": "LayoutView",
      "align_content": null,
      "align_items": null,
      "align_self": null,
      "border": null,
      "bottom": null,
      "display": null,
      "flex": null,
      "flex_flow": null,
      "grid_area": null,
      "grid_auto_columns": null,
      "grid_auto_flow": null,
      "grid_auto_rows": null,
      "grid_column": null,
      "grid_gap": null,
      "grid_row": null,
      "grid_template_areas": null,
      "grid_template_columns": null,
      "grid_template_rows": null,
      "height": null,
      "justify_content": null,
      "justify_items": null,
      "left": null,
      "margin": null,
      "max_height": null,
      "max_width": null,
      "min_height": null,
      "min_width": null,
      "object_fit": null,
      "object_position": null,
      "order": null,
      "overflow": null,
      "overflow_x": null,
      "overflow_y": null,
      "padding": null,
      "right": null,
      "top": null,
      "visibility": null,
      "width": null
     }
    },
    "3a2260bc78434ba1996c434eb021c660": {
     "model_module": "@jupyter-widgets/controls",
     "model_name": "ProgressStyleModel",
     "model_module_version": "1.5.0",
     "state": {
      "_model_module": "@jupyter-widgets/controls",
      "_model_module_version": "1.5.0",
      "_model_name": "ProgressStyleModel",
      "_view_count": null,
      "_view_module": "@jupyter-widgets/base",
      "_view_module_version": "1.2.0",
      "_view_name": "StyleView",
      "bar_color": null,
      "description_width": ""
     }
    },
    "15fe494b4725464bab5da7edc6aff469": {
     "model_module": "@jupyter-widgets/base",
     "model_name": "LayoutModel",
     "model_module_version": "1.2.0",
     "state": {
      "_model_module": "@jupyter-widgets/base",
      "_model_module_version": "1.2.0",
      "_model_name": "LayoutModel",
      "_view_count": null,
      "_view_module": "@jupyter-widgets/base",
      "_view_module_version": "1.2.0",
      "_view_name": "LayoutView",
      "align_content": null,
      "align_items": null,
      "align_self": null,
      "border": null,
      "bottom": null,
      "display": null,
      "flex": null,
      "flex_flow": null,
      "grid_area": null,
      "grid_auto_columns": null,
      "grid_auto_flow": null,
      "grid_auto_rows": null,
      "grid_column": null,
      "grid_gap": null,
      "grid_row": null,
      "grid_template_areas": null,
      "grid_template_columns": null,
      "grid_template_rows": null,
      "height": null,
      "justify_content": null,
      "justify_items": null,
      "left": null,
      "margin": null,
      "max_height": null,
      "max_width": null,
      "min_height": null,
      "min_width": null,
      "object_fit": null,
      "object_position": null,
      "order": null,
      "overflow": null,
      "overflow_x": null,
      "overflow_y": null,
      "padding": null,
      "right": null,
      "top": null,
      "visibility": null,
      "width": null
     }
    },
    "2cd97ca4be4e4cb6bf8eedbe04e414a7": {
     "model_module": "@jupyter-widgets/controls",
     "model_name": "DescriptionStyleModel",
     "model_module_version": "1.5.0",
     "state": {
      "_model_module": "@jupyter-widgets/controls",
      "_model_module_version": "1.5.0",
      "_model_name": "DescriptionStyleModel",
      "_view_count": null,
      "_view_module": "@jupyter-widgets/base",
      "_view_module_version": "1.2.0",
      "_view_name": "StyleView",
      "description_width": ""
     }
    },
    "13e0a577c0c24880be176a80a0d8b74b": {
     "model_module": "@jupyter-widgets/controls",
     "model_name": "HBoxModel",
     "model_module_version": "1.5.0",
     "state": {
      "_dom_classes": [],
      "_model_module": "@jupyter-widgets/controls",
      "_model_module_version": "1.5.0",
      "_model_name": "HBoxModel",
      "_view_count": null,
      "_view_module": "@jupyter-widgets/controls",
      "_view_module_version": "1.5.0",
      "_view_name": "HBoxView",
      "box_style": "",
      "children": [
       "IPY_MODEL_d492906490fe4ace9c313a718f4abba8",
       "IPY_MODEL_69603de110cc4421823e7e333bd4e685",
       "IPY_MODEL_5226c9b3b2144ff6ac70240f7068ea7c"
      ],
      "layout": "IPY_MODEL_eca42b2a5a6d4cd1aeadccf98788d437"
     }
    },
    "d492906490fe4ace9c313a718f4abba8": {
     "model_module": "@jupyter-widgets/controls",
     "model_name": "HTMLModel",
     "model_module_version": "1.5.0",
     "state": {
      "_dom_classes": [],
      "_model_module": "@jupyter-widgets/controls",
      "_model_module_version": "1.5.0",
      "_model_name": "HTMLModel",
      "_view_count": null,
      "_view_module": "@jupyter-widgets/controls",
      "_view_module_version": "1.5.0",
      "_view_name": "HTMLView",
      "description": "",
      "description_tooltip": null,
      "layout": "IPY_MODEL_c3094699e4144d4484cdbc4a2c1c6f8c",
      "placeholder": "​",
      "style": "IPY_MODEL_8a5fd4af8da24c488809a8a0fd52e18d",
      "value": "Downloading data: 100%"
     }
    },
    "69603de110cc4421823e7e333bd4e685": {
     "model_module": "@jupyter-widgets/controls",
     "model_name": "FloatProgressModel",
     "model_module_version": "1.5.0",
     "state": {
      "_dom_classes": [],
      "_model_module": "@jupyter-widgets/controls",
      "_model_module_version": "1.5.0",
      "_model_name": "FloatProgressModel",
      "_view_count": null,
      "_view_module": "@jupyter-widgets/controls",
      "_view_module_version": "1.5.0",
      "_view_name": "ProgressView",
      "bar_style": "success",
      "description": "",
      "description_tooltip": null,
      "layout": "IPY_MODEL_7422e6aca2a94701b1279f6eb9fcd2bb",
      "max": 25324,
      "min": 0,
      "orientation": "horizontal",
      "style": "IPY_MODEL_4f581b1435214a30ab2eb51d454e7384",
      "value": 25324
     }
    },
    "5226c9b3b2144ff6ac70240f7068ea7c": {
     "model_module": "@jupyter-widgets/controls",
     "model_name": "HTMLModel",
     "model_module_version": "1.5.0",
     "state": {
      "_dom_classes": [],
      "_model_module": "@jupyter-widgets/controls",
      "_model_module_version": "1.5.0",
      "_model_name": "HTMLModel",
      "_view_count": null,
      "_view_module": "@jupyter-widgets/controls",
      "_view_module_version": "1.5.0",
      "_view_name": "HTMLView",
      "description": "",
      "description_tooltip": null,
      "layout": "IPY_MODEL_8c4f46eb7d9f460b81a53e33e7ef1f4c",
      "placeholder": "​",
      "style": "IPY_MODEL_c42f5e73579843c9b3a7d4813a880988",
      "value": " 25.3k/25.3k [00:00&lt;00:00, 117kB/s]"
     }
    },
    "eca42b2a5a6d4cd1aeadccf98788d437": {
     "model_module": "@jupyter-widgets/base",
     "model_name": "LayoutModel",
     "model_module_version": "1.2.0",
     "state": {
      "_model_module": "@jupyter-widgets/base",
      "_model_module_version": "1.2.0",
      "_model_name": "LayoutModel",
      "_view_count": null,
      "_view_module": "@jupyter-widgets/base",
      "_view_module_version": "1.2.0",
      "_view_name": "LayoutView",
      "align_content": null,
      "align_items": null,
      "align_self": null,
      "border": null,
      "bottom": null,
      "display": null,
      "flex": null,
      "flex_flow": null,
      "grid_area": null,
      "grid_auto_columns": null,
      "grid_auto_flow": null,
      "grid_auto_rows": null,
      "grid_column": null,
      "grid_gap": null,
      "grid_row": null,
      "grid_template_areas": null,
      "grid_template_columns": null,
      "grid_template_rows": null,
      "height": null,
      "justify_content": null,
      "justify_items": null,
      "left": null,
      "margin": null,
      "max_height": null,
      "max_width": null,
      "min_height": null,
      "min_width": null,
      "object_fit": null,
      "object_position": null,
      "order": null,
      "overflow": null,
      "overflow_x": null,
      "overflow_y": null,
      "padding": null,
      "right": null,
      "top": null,
      "visibility": null,
      "width": null
     }
    },
    "c3094699e4144d4484cdbc4a2c1c6f8c": {
     "model_module": "@jupyter-widgets/base",
     "model_name": "LayoutModel",
     "model_module_version": "1.2.0",
     "state": {
      "_model_module": "@jupyter-widgets/base",
      "_model_module_version": "1.2.0",
      "_model_name": "LayoutModel",
      "_view_count": null,
      "_view_module": "@jupyter-widgets/base",
      "_view_module_version": "1.2.0",
      "_view_name": "LayoutView",
      "align_content": null,
      "align_items": null,
      "align_self": null,
      "border": null,
      "bottom": null,
      "display": null,
      "flex": null,
      "flex_flow": null,
      "grid_area": null,
      "grid_auto_columns": null,
      "grid_auto_flow": null,
      "grid_auto_rows": null,
      "grid_column": null,
      "grid_gap": null,
      "grid_row": null,
      "grid_template_areas": null,
      "grid_template_columns": null,
      "grid_template_rows": null,
      "height": null,
      "justify_content": null,
      "justify_items": null,
      "left": null,
      "margin": null,
      "max_height": null,
      "max_width": null,
      "min_height": null,
      "min_width": null,
      "object_fit": null,
      "object_position": null,
      "order": null,
      "overflow": null,
      "overflow_x": null,
      "overflow_y": null,
      "padding": null,
      "right": null,
      "top": null,
      "visibility": null,
      "width": null
     }
    },
    "8a5fd4af8da24c488809a8a0fd52e18d": {
     "model_module": "@jupyter-widgets/controls",
     "model_name": "DescriptionStyleModel",
     "model_module_version": "1.5.0",
     "state": {
      "_model_module": "@jupyter-widgets/controls",
      "_model_module_version": "1.5.0",
      "_model_name": "DescriptionStyleModel",
      "_view_count": null,
      "_view_module": "@jupyter-widgets/base",
      "_view_module_version": "1.2.0",
      "_view_name": "StyleView",
      "description_width": ""
     }
    },
    "7422e6aca2a94701b1279f6eb9fcd2bb": {
     "model_module": "@jupyter-widgets/base",
     "model_name": "LayoutModel",
     "model_module_version": "1.2.0",
     "state": {
      "_model_module": "@jupyter-widgets/base",
      "_model_module_version": "1.2.0",
      "_model_name": "LayoutModel",
      "_view_count": null,
      "_view_module": "@jupyter-widgets/base",
      "_view_module_version": "1.2.0",
      "_view_name": "LayoutView",
      "align_content": null,
      "align_items": null,
      "align_self": null,
      "border": null,
      "bottom": null,
      "display": null,
      "flex": null,
      "flex_flow": null,
      "grid_area": null,
      "grid_auto_columns": null,
      "grid_auto_flow": null,
      "grid_auto_rows": null,
      "grid_column": null,
      "grid_gap": null,
      "grid_row": null,
      "grid_template_areas": null,
      "grid_template_columns": null,
      "grid_template_rows": null,
      "height": null,
      "justify_content": null,
      "justify_items": null,
      "left": null,
      "margin": null,
      "max_height": null,
      "max_width": null,
      "min_height": null,
      "min_width": null,
      "object_fit": null,
      "object_position": null,
      "order": null,
      "overflow": null,
      "overflow_x": null,
      "overflow_y": null,
      "padding": null,
      "right": null,
      "top": null,
      "visibility": null,
      "width": null
     }
    },
    "4f581b1435214a30ab2eb51d454e7384": {
     "model_module": "@jupyter-widgets/controls",
     "model_name": "ProgressStyleModel",
     "model_module_version": "1.5.0",
     "state": {
      "_model_module": "@jupyter-widgets/controls",
      "_model_module_version": "1.5.0",
      "_model_name": "ProgressStyleModel",
      "_view_count": null,
      "_view_module": "@jupyter-widgets/base",
      "_view_module_version": "1.2.0",
      "_view_name": "StyleView",
      "bar_color": null,
      "description_width": ""
     }
    },
    "8c4f46eb7d9f460b81a53e33e7ef1f4c": {
     "model_module": "@jupyter-widgets/base",
     "model_name": "LayoutModel",
     "model_module_version": "1.2.0",
     "state": {
      "_model_module": "@jupyter-widgets/base",
      "_model_module_version": "1.2.0",
      "_model_name": "LayoutModel",
      "_view_count": null,
      "_view_module": "@jupyter-widgets/base",
      "_view_module_version": "1.2.0",
      "_view_name": "LayoutView",
      "align_content": null,
      "align_items": null,
      "align_self": null,
      "border": null,
      "bottom": null,
      "display": null,
      "flex": null,
      "flex_flow": null,
      "grid_area": null,
      "grid_auto_columns": null,
      "grid_auto_flow": null,
      "grid_auto_rows": null,
      "grid_column": null,
      "grid_gap": null,
      "grid_row": null,
      "grid_template_areas": null,
      "grid_template_columns": null,
      "grid_template_rows": null,
      "height": null,
      "justify_content": null,
      "justify_items": null,
      "left": null,
      "margin": null,
      "max_height": null,
      "max_width": null,
      "min_height": null,
      "min_width": null,
      "object_fit": null,
      "object_position": null,
      "order": null,
      "overflow": null,
      "overflow_x": null,
      "overflow_y": null,
      "padding": null,
      "right": null,
      "top": null,
      "visibility": null,
      "width": null
     }
    },
    "c42f5e73579843c9b3a7d4813a880988": {
     "model_module": "@jupyter-widgets/controls",
     "model_name": "DescriptionStyleModel",
     "model_module_version": "1.5.0",
     "state": {
      "_model_module": "@jupyter-widgets/controls",
      "_model_module_version": "1.5.0",
      "_model_name": "DescriptionStyleModel",
      "_view_count": null,
      "_view_module": "@jupyter-widgets/base",
      "_view_module_version": "1.2.0",
      "_view_name": "StyleView",
      "description_width": ""
     }
    },
    "d02e35436b094095abdaea0e655e045f": {
     "model_module": "@jupyter-widgets/controls",
     "model_name": "HBoxModel",
     "model_module_version": "1.5.0",
     "state": {
      "_dom_classes": [],
      "_model_module": "@jupyter-widgets/controls",
      "_model_module_version": "1.5.0",
      "_model_name": "HBoxModel",
      "_view_count": null,
      "_view_module": "@jupyter-widgets/controls",
      "_view_module_version": "1.5.0",
      "_view_name": "HBoxView",
      "box_style": "",
      "children": [
       "IPY_MODEL_b222837b3c554ddebef43f6758119b7a",
       "IPY_MODEL_e5136be72af745dcb43bb085a81f9594",
       "IPY_MODEL_afe1d6c89f904810983b03f8846ee7ea"
      ],
      "layout": "IPY_MODEL_98dc658518d4417d9622dcd34036790c"
     }
    },
    "b222837b3c554ddebef43f6758119b7a": {
     "model_module": "@jupyter-widgets/controls",
     "model_name": "HTMLModel",
     "model_module_version": "1.5.0",
     "state": {
      "_dom_classes": [],
      "_model_module": "@jupyter-widgets/controls",
      "_model_module_version": "1.5.0",
      "_model_name": "HTMLModel",
      "_view_count": null,
      "_view_module": "@jupyter-widgets/controls",
      "_view_module_version": "1.5.0",
      "_view_name": "HTMLView",
      "description": "",
      "description_tooltip": null,
      "layout": "IPY_MODEL_45db6b98cfe2454eaf2a89fcaa77990b",
      "placeholder": "​",
      "style": "IPY_MODEL_0619db8c587e407bbb71f4266ba59c9d",
      "value": "Downloading data: 100%"
     }
    },
    "e5136be72af745dcb43bb085a81f9594": {
     "model_module": "@jupyter-widgets/controls",
     "model_name": "FloatProgressModel",
     "model_module_version": "1.5.0",
     "state": {
      "_dom_classes": [],
      "_model_module": "@jupyter-widgets/controls",
      "_model_module_version": "1.5.0",
      "_model_name": "FloatProgressModel",
      "_view_count": null,
      "_view_module": "@jupyter-widgets/controls",
      "_view_module_version": "1.5.0",
      "_view_name": "ProgressView",
      "bar_style": "success",
      "description": "",
      "description_tooltip": null,
      "layout": "IPY_MODEL_7e080c2cb4ce4108a5f7d1de618d9158",
      "max": 46775,
      "min": 0,
      "orientation": "horizontal",
      "style": "IPY_MODEL_f7fa156e9e584c2696d5b6a3a06fe0e1",
      "value": 46775
     }
    },
    "afe1d6c89f904810983b03f8846ee7ea": {
     "model_module": "@jupyter-widgets/controls",
     "model_name": "HTMLModel",
     "model_module_version": "1.5.0",
     "state": {
      "_dom_classes": [],
      "_model_module": "@jupyter-widgets/controls",
      "_model_module_version": "1.5.0",
      "_model_name": "HTMLModel",
      "_view_count": null,
      "_view_module": "@jupyter-widgets/controls",
      "_view_module_version": "1.5.0",
      "_view_name": "HTMLView",
      "description": "",
      "description_tooltip": null,
      "layout": "IPY_MODEL_67cd19f6c6764c2db8780d02e05b114a",
      "placeholder": "​",
      "style": "IPY_MODEL_af4a503eaf8848a88f362b3f0ec6f9c9",
      "value": " 46.8k/46.8k [00:00&lt;00:00, 233kB/s]"
     }
    },
    "98dc658518d4417d9622dcd34036790c": {
     "model_module": "@jupyter-widgets/base",
     "model_name": "LayoutModel",
     "model_module_version": "1.2.0",
     "state": {
      "_model_module": "@jupyter-widgets/base",
      "_model_module_version": "1.2.0",
      "_model_name": "LayoutModel",
      "_view_count": null,
      "_view_module": "@jupyter-widgets/base",
      "_view_module_version": "1.2.0",
      "_view_name": "LayoutView",
      "align_content": null,
      "align_items": null,
      "align_self": null,
      "border": null,
      "bottom": null,
      "display": null,
      "flex": null,
      "flex_flow": null,
      "grid_area": null,
      "grid_auto_columns": null,
      "grid_auto_flow": null,
      "grid_auto_rows": null,
      "grid_column": null,
      "grid_gap": null,
      "grid_row": null,
      "grid_template_areas": null,
      "grid_template_columns": null,
      "grid_template_rows": null,
      "height": null,
      "justify_content": null,
      "justify_items": null,
      "left": null,
      "margin": null,
      "max_height": null,
      "max_width": null,
      "min_height": null,
      "min_width": null,
      "object_fit": null,
      "object_position": null,
      "order": null,
      "overflow": null,
      "overflow_x": null,
      "overflow_y": null,
      "padding": null,
      "right": null,
      "top": null,
      "visibility": null,
      "width": null
     }
    },
    "45db6b98cfe2454eaf2a89fcaa77990b": {
     "model_module": "@jupyter-widgets/base",
     "model_name": "LayoutModel",
     "model_module_version": "1.2.0",
     "state": {
      "_model_module": "@jupyter-widgets/base",
      "_model_module_version": "1.2.0",
      "_model_name": "LayoutModel",
      "_view_count": null,
      "_view_module": "@jupyter-widgets/base",
      "_view_module_version": "1.2.0",
      "_view_name": "LayoutView",
      "align_content": null,
      "align_items": null,
      "align_self": null,
      "border": null,
      "bottom": null,
      "display": null,
      "flex": null,
      "flex_flow": null,
      "grid_area": null,
      "grid_auto_columns": null,
      "grid_auto_flow": null,
      "grid_auto_rows": null,
      "grid_column": null,
      "grid_gap": null,
      "grid_row": null,
      "grid_template_areas": null,
      "grid_template_columns": null,
      "grid_template_rows": null,
      "height": null,
      "justify_content": null,
      "justify_items": null,
      "left": null,
      "margin": null,
      "max_height": null,
      "max_width": null,
      "min_height": null,
      "min_width": null,
      "object_fit": null,
      "object_position": null,
      "order": null,
      "overflow": null,
      "overflow_x": null,
      "overflow_y": null,
      "padding": null,
      "right": null,
      "top": null,
      "visibility": null,
      "width": null
     }
    },
    "0619db8c587e407bbb71f4266ba59c9d": {
     "model_module": "@jupyter-widgets/controls",
     "model_name": "DescriptionStyleModel",
     "model_module_version": "1.5.0",
     "state": {
      "_model_module": "@jupyter-widgets/controls",
      "_model_module_version": "1.5.0",
      "_model_name": "DescriptionStyleModel",
      "_view_count": null,
      "_view_module": "@jupyter-widgets/base",
      "_view_module_version": "1.2.0",
      "_view_name": "StyleView",
      "description_width": ""
     }
    },
    "7e080c2cb4ce4108a5f7d1de618d9158": {
     "model_module": "@jupyter-widgets/base",
     "model_name": "LayoutModel",
     "model_module_version": "1.2.0",
     "state": {
      "_model_module": "@jupyter-widgets/base",
      "_model_module_version": "1.2.0",
      "_model_name": "LayoutModel",
      "_view_count": null,
      "_view_module": "@jupyter-widgets/base",
      "_view_module_version": "1.2.0",
      "_view_name": "LayoutView",
      "align_content": null,
      "align_items": null,
      "align_self": null,
      "border": null,
      "bottom": null,
      "display": null,
      "flex": null,
      "flex_flow": null,
      "grid_area": null,
      "grid_auto_columns": null,
      "grid_auto_flow": null,
      "grid_auto_rows": null,
      "grid_column": null,
      "grid_gap": null,
      "grid_row": null,
      "grid_template_areas": null,
      "grid_template_columns": null,
      "grid_template_rows": null,
      "height": null,
      "justify_content": null,
      "justify_items": null,
      "left": null,
      "margin": null,
      "max_height": null,
      "max_width": null,
      "min_height": null,
      "min_width": null,
      "object_fit": null,
      "object_position": null,
      "order": null,
      "overflow": null,
      "overflow_x": null,
      "overflow_y": null,
      "padding": null,
      "right": null,
      "top": null,
      "visibility": null,
      "width": null
     }
    },
    "f7fa156e9e584c2696d5b6a3a06fe0e1": {
     "model_module": "@jupyter-widgets/controls",
     "model_name": "ProgressStyleModel",
     "model_module_version": "1.5.0",
     "state": {
      "_model_module": "@jupyter-widgets/controls",
      "_model_module_version": "1.5.0",
      "_model_name": "ProgressStyleModel",
      "_view_count": null,
      "_view_module": "@jupyter-widgets/base",
      "_view_module_version": "1.2.0",
      "_view_name": "StyleView",
      "bar_color": null,
      "description_width": ""
     }
    },
    "67cd19f6c6764c2db8780d02e05b114a": {
     "model_module": "@jupyter-widgets/base",
     "model_name": "LayoutModel",
     "model_module_version": "1.2.0",
     "state": {
      "_model_module": "@jupyter-widgets/base",
      "_model_module_version": "1.2.0",
      "_model_name": "LayoutModel",
      "_view_count": null,
      "_view_module": "@jupyter-widgets/base",
      "_view_module_version": "1.2.0",
      "_view_name": "LayoutView",
      "align_content": null,
      "align_items": null,
      "align_self": null,
      "border": null,
      "bottom": null,
      "display": null,
      "flex": null,
      "flex_flow": null,
      "grid_area": null,
      "grid_auto_columns": null,
      "grid_auto_flow": null,
      "grid_auto_rows": null,
      "grid_column": null,
      "grid_gap": null,
      "grid_row": null,
      "grid_template_areas": null,
      "grid_template_columns": null,
      "grid_template_rows": null,
      "height": null,
      "justify_content": null,
      "justify_items": null,
      "left": null,
      "margin": null,
      "max_height": null,
      "max_width": null,
      "min_height": null,
      "min_width": null,
      "object_fit": null,
      "object_position": null,
      "order": null,
      "overflow": null,
      "overflow_x": null,
      "overflow_y": null,
      "padding": null,
      "right": null,
      "top": null,
      "visibility": null,
      "width": null
     }
    },
    "af4a503eaf8848a88f362b3f0ec6f9c9": {
     "model_module": "@jupyter-widgets/controls",
     "model_name": "DescriptionStyleModel",
     "model_module_version": "1.5.0",
     "state": {
      "_model_module": "@jupyter-widgets/controls",
      "_model_module_version": "1.5.0",
      "_model_name": "DescriptionStyleModel",
      "_view_count": null,
      "_view_module": "@jupyter-widgets/base",
      "_view_module_version": "1.2.0",
      "_view_name": "StyleView",
      "description_width": ""
     }
    },
    "4a8ea3feb54e4403a860f51c40c60a65": {
     "model_module": "@jupyter-widgets/controls",
     "model_name": "HBoxModel",
     "model_module_version": "1.5.0",
     "state": {
      "_dom_classes": [],
      "_model_module": "@jupyter-widgets/controls",
      "_model_module_version": "1.5.0",
      "_model_name": "HBoxModel",
      "_view_count": null,
      "_view_module": "@jupyter-widgets/controls",
      "_view_module_version": "1.5.0",
      "_view_name": "HBoxView",
      "box_style": "",
      "children": [
       "IPY_MODEL_e5b529c0bda44d7fb498d12790d5fdb5",
       "IPY_MODEL_797dccf1637a4865922892338fa78f32",
       "IPY_MODEL_9482abdd534c4738bc8b0f24663091e7"
      ],
      "layout": "IPY_MODEL_32be02674b0f42e8b8e324188ef9d597"
     }
    },
    "e5b529c0bda44d7fb498d12790d5fdb5": {
     "model_module": "@jupyter-widgets/controls",
     "model_name": "HTMLModel",
     "model_module_version": "1.5.0",
     "state": {
      "_dom_classes": [],
      "_model_module": "@jupyter-widgets/controls",
      "_model_module_version": "1.5.0",
      "_model_name": "HTMLModel",
      "_view_count": null,
      "_view_module": "@jupyter-widgets/controls",
      "_view_module_version": "1.5.0",
      "_view_name": "HTMLView",
      "description": "",
      "description_tooltip": null,
      "layout": "IPY_MODEL_334900782e2e480ab10493cd6c0b8d8d",
      "placeholder": "​",
      "style": "IPY_MODEL_756e1842cf684fea96b3ae0f1a82d279",
      "value": "Generating train split: 100%"
     }
    },
    "797dccf1637a4865922892338fa78f32": {
     "model_module": "@jupyter-widgets/controls",
     "model_name": "FloatProgressModel",
     "model_module_version": "1.5.0",
     "state": {
      "_dom_classes": [],
      "_model_module": "@jupyter-widgets/controls",
      "_model_module_version": "1.5.0",
      "_model_name": "FloatProgressModel",
      "_view_count": null,
      "_view_module": "@jupyter-widgets/controls",
      "_view_module_version": "1.5.0",
      "_view_name": "ProgressView",
      "bar_style": "success",
      "description": "",
      "description_tooltip": null,
      "layout": "IPY_MODEL_b0d7bbafb1a64bc49dd32b58a16d12d5",
      "max": 1320,
      "min": 0,
      "orientation": "horizontal",
      "style": "IPY_MODEL_acbfc2a44a2e43bf81ad705d73f520a3",
      "value": 1320
     }
    },
    "9482abdd534c4738bc8b0f24663091e7": {
     "model_module": "@jupyter-widgets/controls",
     "model_name": "HTMLModel",
     "model_module_version": "1.5.0",
     "state": {
      "_dom_classes": [],
      "_model_module": "@jupyter-widgets/controls",
      "_model_module_version": "1.5.0",
      "_model_name": "HTMLModel",
      "_view_count": null,
      "_view_module": "@jupyter-widgets/controls",
      "_view_module_version": "1.5.0",
      "_view_name": "HTMLView",
      "description": "",
      "description_tooltip": null,
      "layout": "IPY_MODEL_c988a28d112a4546b5a7519e3624f256",
      "placeholder": "​",
      "style": "IPY_MODEL_c90b605d2ac149e0b4e27fcdd2a3b8b5",
      "value": " 1320/1320 [00:00&lt;00:00, 18244.52 examples/s]"
     }
    },
    "32be02674b0f42e8b8e324188ef9d597": {
     "model_module": "@jupyter-widgets/base",
     "model_name": "LayoutModel",
     "model_module_version": "1.2.0",
     "state": {
      "_model_module": "@jupyter-widgets/base",
      "_model_module_version": "1.2.0",
      "_model_name": "LayoutModel",
      "_view_count": null,
      "_view_module": "@jupyter-widgets/base",
      "_view_module_version": "1.2.0",
      "_view_name": "LayoutView",
      "align_content": null,
      "align_items": null,
      "align_self": null,
      "border": null,
      "bottom": null,
      "display": null,
      "flex": null,
      "flex_flow": null,
      "grid_area": null,
      "grid_auto_columns": null,
      "grid_auto_flow": null,
      "grid_auto_rows": null,
      "grid_column": null,
      "grid_gap": null,
      "grid_row": null,
      "grid_template_areas": null,
      "grid_template_columns": null,
      "grid_template_rows": null,
      "height": null,
      "justify_content": null,
      "justify_items": null,
      "left": null,
      "margin": null,
      "max_height": null,
      "max_width": null,
      "min_height": null,
      "min_width": null,
      "object_fit": null,
      "object_position": null,
      "order": null,
      "overflow": null,
      "overflow_x": null,
      "overflow_y": null,
      "padding": null,
      "right": null,
      "top": null,
      "visibility": null,
      "width": null
     }
    },
    "334900782e2e480ab10493cd6c0b8d8d": {
     "model_module": "@jupyter-widgets/base",
     "model_name": "LayoutModel",
     "model_module_version": "1.2.0",
     "state": {
      "_model_module": "@jupyter-widgets/base",
      "_model_module_version": "1.2.0",
      "_model_name": "LayoutModel",
      "_view_count": null,
      "_view_module": "@jupyter-widgets/base",
      "_view_module_version": "1.2.0",
      "_view_name": "LayoutView",
      "align_content": null,
      "align_items": null,
      "align_self": null,
      "border": null,
      "bottom": null,
      "display": null,
      "flex": null,
      "flex_flow": null,
      "grid_area": null,
      "grid_auto_columns": null,
      "grid_auto_flow": null,
      "grid_auto_rows": null,
      "grid_column": null,
      "grid_gap": null,
      "grid_row": null,
      "grid_template_areas": null,
      "grid_template_columns": null,
      "grid_template_rows": null,
      "height": null,
      "justify_content": null,
      "justify_items": null,
      "left": null,
      "margin": null,
      "max_height": null,
      "max_width": null,
      "min_height": null,
      "min_width": null,
      "object_fit": null,
      "object_position": null,
      "order": null,
      "overflow": null,
      "overflow_x": null,
      "overflow_y": null,
      "padding": null,
      "right": null,
      "top": null,
      "visibility": null,
      "width": null
     }
    },
    "756e1842cf684fea96b3ae0f1a82d279": {
     "model_module": "@jupyter-widgets/controls",
     "model_name": "DescriptionStyleModel",
     "model_module_version": "1.5.0",
     "state": {
      "_model_module": "@jupyter-widgets/controls",
      "_model_module_version": "1.5.0",
      "_model_name": "DescriptionStyleModel",
      "_view_count": null,
      "_view_module": "@jupyter-widgets/base",
      "_view_module_version": "1.2.0",
      "_view_name": "StyleView",
      "description_width": ""
     }
    },
    "b0d7bbafb1a64bc49dd32b58a16d12d5": {
     "model_module": "@jupyter-widgets/base",
     "model_name": "LayoutModel",
     "model_module_version": "1.2.0",
     "state": {
      "_model_module": "@jupyter-widgets/base",
      "_model_module_version": "1.2.0",
      "_model_name": "LayoutModel",
      "_view_count": null,
      "_view_module": "@jupyter-widgets/base",
      "_view_module_version": "1.2.0",
      "_view_name": "LayoutView",
      "align_content": null,
      "align_items": null,
      "align_self": null,
      "border": null,
      "bottom": null,
      "display": null,
      "flex": null,
      "flex_flow": null,
      "grid_area": null,
      "grid_auto_columns": null,
      "grid_auto_flow": null,
      "grid_auto_rows": null,
      "grid_column": null,
      "grid_gap": null,
      "grid_row": null,
      "grid_template_areas": null,
      "grid_template_columns": null,
      "grid_template_rows": null,
      "height": null,
      "justify_content": null,
      "justify_items": null,
      "left": null,
      "margin": null,
      "max_height": null,
      "max_width": null,
      "min_height": null,
      "min_width": null,
      "object_fit": null,
      "object_position": null,
      "order": null,
      "overflow": null,
      "overflow_x": null,
      "overflow_y": null,
      "padding": null,
      "right": null,
      "top": null,
      "visibility": null,
      "width": null
     }
    },
    "acbfc2a44a2e43bf81ad705d73f520a3": {
     "model_module": "@jupyter-widgets/controls",
     "model_name": "ProgressStyleModel",
     "model_module_version": "1.5.0",
     "state": {
      "_model_module": "@jupyter-widgets/controls",
      "_model_module_version": "1.5.0",
      "_model_name": "ProgressStyleModel",
      "_view_count": null,
      "_view_module": "@jupyter-widgets/base",
      "_view_module_version": "1.2.0",
      "_view_name": "StyleView",
      "bar_color": null,
      "description_width": ""
     }
    },
    "c988a28d112a4546b5a7519e3624f256": {
     "model_module": "@jupyter-widgets/base",
     "model_name": "LayoutModel",
     "model_module_version": "1.2.0",
     "state": {
      "_model_module": "@jupyter-widgets/base",
      "_model_module_version": "1.2.0",
      "_model_name": "LayoutModel",
      "_view_count": null,
      "_view_module": "@jupyter-widgets/base",
      "_view_module_version": "1.2.0",
      "_view_name": "LayoutView",
      "align_content": null,
      "align_items": null,
      "align_self": null,
      "border": null,
      "bottom": null,
      "display": null,
      "flex": null,
      "flex_flow": null,
      "grid_area": null,
      "grid_auto_columns": null,
      "grid_auto_flow": null,
      "grid_auto_rows": null,
      "grid_column": null,
      "grid_gap": null,
      "grid_row": null,
      "grid_template_areas": null,
      "grid_template_columns": null,
      "grid_template_rows": null,
      "height": null,
      "justify_content": null,
      "justify_items": null,
      "left": null,
      "margin": null,
      "max_height": null,
      "max_width": null,
      "min_height": null,
      "min_width": null,
      "object_fit": null,
      "object_position": null,
      "order": null,
      "overflow": null,
      "overflow_x": null,
      "overflow_y": null,
      "padding": null,
      "right": null,
      "top": null,
      "visibility": null,
      "width": null
     }
    },
    "c90b605d2ac149e0b4e27fcdd2a3b8b5": {
     "model_module": "@jupyter-widgets/controls",
     "model_name": "DescriptionStyleModel",
     "model_module_version": "1.5.0",
     "state": {
      "_model_module": "@jupyter-widgets/controls",
      "_model_module_version": "1.5.0",
      "_model_name": "DescriptionStyleModel",
      "_view_count": null,
      "_view_module": "@jupyter-widgets/base",
      "_view_module_version": "1.2.0",
      "_view_name": "StyleView",
      "description_width": ""
     }
    },
    "cecae7e33f444016a8ab7f3f8e22ec38": {
     "model_module": "@jupyter-widgets/controls",
     "model_name": "HBoxModel",
     "model_module_version": "1.5.0",
     "state": {
      "_dom_classes": [],
      "_model_module": "@jupyter-widgets/controls",
      "_model_module_version": "1.5.0",
      "_model_name": "HBoxModel",
      "_view_count": null,
      "_view_module": "@jupyter-widgets/controls",
      "_view_module_version": "1.5.0",
      "_view_name": "HBoxView",
      "box_style": "",
      "children": [
       "IPY_MODEL_a81da08c8f514e5a89182a6aada68f55",
       "IPY_MODEL_22ea76e1f2e3414cb55d079b234ecc38",
       "IPY_MODEL_45050d82435943fd85fdf5991c060f1a"
      ],
      "layout": "IPY_MODEL_3d2751a637c34ab28de8945e28def42a"
     }
    },
    "a81da08c8f514e5a89182a6aada68f55": {
     "model_module": "@jupyter-widgets/controls",
     "model_name": "HTMLModel",
     "model_module_version": "1.5.0",
     "state": {
      "_dom_classes": [],
      "_model_module": "@jupyter-widgets/controls",
      "_model_module_version": "1.5.0",
      "_model_name": "HTMLModel",
      "_view_count": null,
      "_view_module": "@jupyter-widgets/controls",
      "_view_module_version": "1.5.0",
      "_view_name": "HTMLView",
      "description": "",
      "description_tooltip": null,
      "layout": "IPY_MODEL_0df785030f164f39b7eb0fcbaf40cb10",
      "placeholder": "​",
      "style": "IPY_MODEL_676a9315ef154923b7e5569b34df4e57",
      "value": "Generating validation split: 100%"
     }
    },
    "22ea76e1f2e3414cb55d079b234ecc38": {
     "model_module": "@jupyter-widgets/controls",
     "model_name": "FloatProgressModel",
     "model_module_version": "1.5.0",
     "state": {
      "_dom_classes": [],
      "_model_module": "@jupyter-widgets/controls",
      "_model_module_version": "1.5.0",
      "_model_name": "FloatProgressModel",
      "_view_count": null,
      "_view_module": "@jupyter-widgets/controls",
      "_view_module_version": "1.5.0",
      "_view_name": "ProgressView",
      "bar_style": "success",
      "description": "",
      "description_tooltip": null,
      "layout": "IPY_MODEL_a66b1b58a7ed4cb681600e49378f42a3",
      "max": 77,
      "min": 0,
      "orientation": "horizontal",
      "style": "IPY_MODEL_7524b3f3a0da43088b780d68f10dd94c",
      "value": 77
     }
    },
    "45050d82435943fd85fdf5991c060f1a": {
     "model_module": "@jupyter-widgets/controls",
     "model_name": "HTMLModel",
     "model_module_version": "1.5.0",
     "state": {
      "_dom_classes": [],
      "_model_module": "@jupyter-widgets/controls",
      "_model_module_version": "1.5.0",
      "_model_name": "HTMLModel",
      "_view_count": null,
      "_view_module": "@jupyter-widgets/controls",
      "_view_module_version": "1.5.0",
      "_view_name": "HTMLView",
      "description": "",
      "description_tooltip": null,
      "layout": "IPY_MODEL_249808ece0894aaaaf1350ffdb41fc8b",
      "placeholder": "​",
      "style": "IPY_MODEL_0a7ecba944724ab597f3fbfee5dadb44",
      "value": " 77/77 [00:00&lt;00:00, 2833.02 examples/s]"
     }
    },
    "3d2751a637c34ab28de8945e28def42a": {
     "model_module": "@jupyter-widgets/base",
     "model_name": "LayoutModel",
     "model_module_version": "1.2.0",
     "state": {
      "_model_module": "@jupyter-widgets/base",
      "_model_module_version": "1.2.0",
      "_model_name": "LayoutModel",
      "_view_count": null,
      "_view_module": "@jupyter-widgets/base",
      "_view_module_version": "1.2.0",
      "_view_name": "LayoutView",
      "align_content": null,
      "align_items": null,
      "align_self": null,
      "border": null,
      "bottom": null,
      "display": null,
      "flex": null,
      "flex_flow": null,
      "grid_area": null,
      "grid_auto_columns": null,
      "grid_auto_flow": null,
      "grid_auto_rows": null,
      "grid_column": null,
      "grid_gap": null,
      "grid_row": null,
      "grid_template_areas": null,
      "grid_template_columns": null,
      "grid_template_rows": null,
      "height": null,
      "justify_content": null,
      "justify_items": null,
      "left": null,
      "margin": null,
      "max_height": null,
      "max_width": null,
      "min_height": null,
      "min_width": null,
      "object_fit": null,
      "object_position": null,
      "order": null,
      "overflow": null,
      "overflow_x": null,
      "overflow_y": null,
      "padding": null,
      "right": null,
      "top": null,
      "visibility": null,
      "width": null
     }
    },
    "0df785030f164f39b7eb0fcbaf40cb10": {
     "model_module": "@jupyter-widgets/base",
     "model_name": "LayoutModel",
     "model_module_version": "1.2.0",
     "state": {
      "_model_module": "@jupyter-widgets/base",
      "_model_module_version": "1.2.0",
      "_model_name": "LayoutModel",
      "_view_count": null,
      "_view_module": "@jupyter-widgets/base",
      "_view_module_version": "1.2.0",
      "_view_name": "LayoutView",
      "align_content": null,
      "align_items": null,
      "align_self": null,
      "border": null,
      "bottom": null,
      "display": null,
      "flex": null,
      "flex_flow": null,
      "grid_area": null,
      "grid_auto_columns": null,
      "grid_auto_flow": null,
      "grid_auto_rows": null,
      "grid_column": null,
      "grid_gap": null,
      "grid_row": null,
      "grid_template_areas": null,
      "grid_template_columns": null,
      "grid_template_rows": null,
      "height": null,
      "justify_content": null,
      "justify_items": null,
      "left": null,
      "margin": null,
      "max_height": null,
      "max_width": null,
      "min_height": null,
      "min_width": null,
      "object_fit": null,
      "object_position": null,
      "order": null,
      "overflow": null,
      "overflow_x": null,
      "overflow_y": null,
      "padding": null,
      "right": null,
      "top": null,
      "visibility": null,
      "width": null
     }
    },
    "676a9315ef154923b7e5569b34df4e57": {
     "model_module": "@jupyter-widgets/controls",
     "model_name": "DescriptionStyleModel",
     "model_module_version": "1.5.0",
     "state": {
      "_model_module": "@jupyter-widgets/controls",
      "_model_module_version": "1.5.0",
      "_model_name": "DescriptionStyleModel",
      "_view_count": null,
      "_view_module": "@jupyter-widgets/base",
      "_view_module_version": "1.2.0",
      "_view_name": "StyleView",
      "description_width": ""
     }
    },
    "a66b1b58a7ed4cb681600e49378f42a3": {
     "model_module": "@jupyter-widgets/base",
     "model_name": "LayoutModel",
     "model_module_version": "1.2.0",
     "state": {
      "_model_module": "@jupyter-widgets/base",
      "_model_module_version": "1.2.0",
      "_model_name": "LayoutModel",
      "_view_count": null,
      "_view_module": "@jupyter-widgets/base",
      "_view_module_version": "1.2.0",
      "_view_name": "LayoutView",
      "align_content": null,
      "align_items": null,
      "align_self": null,
      "border": null,
      "bottom": null,
      "display": null,
      "flex": null,
      "flex_flow": null,
      "grid_area": null,
      "grid_auto_columns": null,
      "grid_auto_flow": null,
      "grid_auto_rows": null,
      "grid_column": null,
      "grid_gap": null,
      "grid_row": null,
      "grid_template_areas": null,
      "grid_template_columns": null,
      "grid_template_rows": null,
      "height": null,
      "justify_content": null,
      "justify_items": null,
      "left": null,
      "margin": null,
      "max_height": null,
      "max_width": null,
      "min_height": null,
      "min_width": null,
      "object_fit": null,
      "object_position": null,
      "order": null,
      "overflow": null,
      "overflow_x": null,
      "overflow_y": null,
      "padding": null,
      "right": null,
      "top": null,
      "visibility": null,
      "width": null
     }
    },
    "7524b3f3a0da43088b780d68f10dd94c": {
     "model_module": "@jupyter-widgets/controls",
     "model_name": "ProgressStyleModel",
     "model_module_version": "1.5.0",
     "state": {
      "_model_module": "@jupyter-widgets/controls",
      "_model_module_version": "1.5.0",
      "_model_name": "ProgressStyleModel",
      "_view_count": null,
      "_view_module": "@jupyter-widgets/base",
      "_view_module_version": "1.2.0",
      "_view_name": "StyleView",
      "bar_color": null,
      "description_width": ""
     }
    },
    "249808ece0894aaaaf1350ffdb41fc8b": {
     "model_module": "@jupyter-widgets/base",
     "model_name": "LayoutModel",
     "model_module_version": "1.2.0",
     "state": {
      "_model_module": "@jupyter-widgets/base",
      "_model_module_version": "1.2.0",
      "_model_name": "LayoutModel",
      "_view_count": null,
      "_view_module": "@jupyter-widgets/base",
      "_view_module_version": "1.2.0",
      "_view_name": "LayoutView",
      "align_content": null,
      "align_items": null,
      "align_self": null,
      "border": null,
      "bottom": null,
      "display": null,
      "flex": null,
      "flex_flow": null,
      "grid_area": null,
      "grid_auto_columns": null,
      "grid_auto_flow": null,
      "grid_auto_rows": null,
      "grid_column": null,
      "grid_gap": null,
      "grid_row": null,
      "grid_template_areas": null,
      "grid_template_columns": null,
      "grid_template_rows": null,
      "height": null,
      "justify_content": null,
      "justify_items": null,
      "left": null,
      "margin": null,
      "max_height": null,
      "max_width": null,
      "min_height": null,
      "min_width": null,
      "object_fit": null,
      "object_position": null,
      "order": null,
      "overflow": null,
      "overflow_x": null,
      "overflow_y": null,
      "padding": null,
      "right": null,
      "top": null,
      "visibility": null,
      "width": null
     }
    },
    "0a7ecba944724ab597f3fbfee5dadb44": {
     "model_module": "@jupyter-widgets/controls",
     "model_name": "DescriptionStyleModel",
     "model_module_version": "1.5.0",
     "state": {
      "_model_module": "@jupyter-widgets/controls",
      "_model_module_version": "1.5.0",
      "_model_name": "DescriptionStyleModel",
      "_view_count": null,
      "_view_module": "@jupyter-widgets/base",
      "_view_module_version": "1.2.0",
      "_view_name": "StyleView",
      "description_width": ""
     }
    },
    "e02a69378cf0482b947fd30da495244e": {
     "model_module": "@jupyter-widgets/controls",
     "model_name": "HBoxModel",
     "model_module_version": "1.5.0",
     "state": {
      "_dom_classes": [],
      "_model_module": "@jupyter-widgets/controls",
      "_model_module_version": "1.5.0",
      "_model_name": "HBoxModel",
      "_view_count": null,
      "_view_module": "@jupyter-widgets/controls",
      "_view_module_version": "1.5.0",
      "_view_name": "HBoxView",
      "box_style": "",
      "children": [
       "IPY_MODEL_0b8c1047b47d4f39b5f8bde6a348704b",
       "IPY_MODEL_840d77a93521462f8db2a6a868666d75",
       "IPY_MODEL_e9e7c3248f32459296b5a4ee15cd999e"
      ],
      "layout": "IPY_MODEL_144a8dcc90804accb8b5c96cf241f934"
     }
    },
    "0b8c1047b47d4f39b5f8bde6a348704b": {
     "model_module": "@jupyter-widgets/controls",
     "model_name": "HTMLModel",
     "model_module_version": "1.5.0",
     "state": {
      "_dom_classes": [],
      "_model_module": "@jupyter-widgets/controls",
      "_model_module_version": "1.5.0",
      "_model_name": "HTMLModel",
      "_view_count": null,
      "_view_module": "@jupyter-widgets/controls",
      "_view_module_version": "1.5.0",
      "_view_name": "HTMLView",
      "description": "",
      "description_tooltip": null,
      "layout": "IPY_MODEL_ee135d6e1a8c4042b2d155609fcce7bb",
      "placeholder": "​",
      "style": "IPY_MODEL_ef08bea292924aefbce06188388be7b0",
      "value": "Generating test split: 100%"
     }
    },
    "840d77a93521462f8db2a6a868666d75": {
     "model_module": "@jupyter-widgets/controls",
     "model_name": "FloatProgressModel",
     "model_module_version": "1.5.0",
     "state": {
      "_dom_classes": [],
      "_model_module": "@jupyter-widgets/controls",
      "_model_module_version": "1.5.0",
      "_model_name": "FloatProgressModel",
      "_view_count": null,
      "_view_module": "@jupyter-widgets/controls",
      "_view_module_version": "1.5.0",
      "_view_name": "ProgressView",
      "bar_style": "success",
      "description": "",
      "description_tooltip": null,
      "layout": "IPY_MODEL_9d0c9302da5641888451cf1d6606d13f",
      "max": 155,
      "min": 0,
      "orientation": "horizontal",
      "style": "IPY_MODEL_f2e3d9c72db64aca9610f5d5b6602733",
      "value": 155
     }
    },
    "e9e7c3248f32459296b5a4ee15cd999e": {
     "model_module": "@jupyter-widgets/controls",
     "model_name": "HTMLModel",
     "model_module_version": "1.5.0",
     "state": {
      "_dom_classes": [],
      "_model_module": "@jupyter-widgets/controls",
      "_model_module_version": "1.5.0",
      "_model_name": "HTMLModel",
      "_view_count": null,
      "_view_module": "@jupyter-widgets/controls",
      "_view_module_version": "1.5.0",
      "_view_name": "HTMLView",
      "description": "",
      "description_tooltip": null,
      "layout": "IPY_MODEL_8373ee773feb41de804db1a71b11c391",
      "placeholder": "​",
      "style": "IPY_MODEL_781c601df8f5449ab56fdf104869373c",
      "value": " 155/155 [00:00&lt;00:00, 5621.66 examples/s]"
     }
    },
    "144a8dcc90804accb8b5c96cf241f934": {
     "model_module": "@jupyter-widgets/base",
     "model_name": "LayoutModel",
     "model_module_version": "1.2.0",
     "state": {
      "_model_module": "@jupyter-widgets/base",
      "_model_module_version": "1.2.0",
      "_model_name": "LayoutModel",
      "_view_count": null,
      "_view_module": "@jupyter-widgets/base",
      "_view_module_version": "1.2.0",
      "_view_name": "LayoutView",
      "align_content": null,
      "align_items": null,
      "align_self": null,
      "border": null,
      "bottom": null,
      "display": null,
      "flex": null,
      "flex_flow": null,
      "grid_area": null,
      "grid_auto_columns": null,
      "grid_auto_flow": null,
      "grid_auto_rows": null,
      "grid_column": null,
      "grid_gap": null,
      "grid_row": null,
      "grid_template_areas": null,
      "grid_template_columns": null,
      "grid_template_rows": null,
      "height": null,
      "justify_content": null,
      "justify_items": null,
      "left": null,
      "margin": null,
      "max_height": null,
      "max_width": null,
      "min_height": null,
      "min_width": null,
      "object_fit": null,
      "object_position": null,
      "order": null,
      "overflow": null,
      "overflow_x": null,
      "overflow_y": null,
      "padding": null,
      "right": null,
      "top": null,
      "visibility": null,
      "width": null
     }
    },
    "ee135d6e1a8c4042b2d155609fcce7bb": {
     "model_module": "@jupyter-widgets/base",
     "model_name": "LayoutModel",
     "model_module_version": "1.2.0",
     "state": {
      "_model_module": "@jupyter-widgets/base",
      "_model_module_version": "1.2.0",
      "_model_name": "LayoutModel",
      "_view_count": null,
      "_view_module": "@jupyter-widgets/base",
      "_view_module_version": "1.2.0",
      "_view_name": "LayoutView",
      "align_content": null,
      "align_items": null,
      "align_self": null,
      "border": null,
      "bottom": null,
      "display": null,
      "flex": null,
      "flex_flow": null,
      "grid_area": null,
      "grid_auto_columns": null,
      "grid_auto_flow": null,
      "grid_auto_rows": null,
      "grid_column": null,
      "grid_gap": null,
      "grid_row": null,
      "grid_template_areas": null,
      "grid_template_columns": null,
      "grid_template_rows": null,
      "height": null,
      "justify_content": null,
      "justify_items": null,
      "left": null,
      "margin": null,
      "max_height": null,
      "max_width": null,
      "min_height": null,
      "min_width": null,
      "object_fit": null,
      "object_position": null,
      "order": null,
      "overflow": null,
      "overflow_x": null,
      "overflow_y": null,
      "padding": null,
      "right": null,
      "top": null,
      "visibility": null,
      "width": null
     }
    },
    "ef08bea292924aefbce06188388be7b0": {
     "model_module": "@jupyter-widgets/controls",
     "model_name": "DescriptionStyleModel",
     "model_module_version": "1.5.0",
     "state": {
      "_model_module": "@jupyter-widgets/controls",
      "_model_module_version": "1.5.0",
      "_model_name": "DescriptionStyleModel",
      "_view_count": null,
      "_view_module": "@jupyter-widgets/base",
      "_view_module_version": "1.2.0",
      "_view_name": "StyleView",
      "description_width": ""
     }
    },
    "9d0c9302da5641888451cf1d6606d13f": {
     "model_module": "@jupyter-widgets/base",
     "model_name": "LayoutModel",
     "model_module_version": "1.2.0",
     "state": {
      "_model_module": "@jupyter-widgets/base",
      "_model_module_version": "1.2.0",
      "_model_name": "LayoutModel",
      "_view_count": null,
      "_view_module": "@jupyter-widgets/base",
      "_view_module_version": "1.2.0",
      "_view_name": "LayoutView",
      "align_content": null,
      "align_items": null,
      "align_self": null,
      "border": null,
      "bottom": null,
      "display": null,
      "flex": null,
      "flex_flow": null,
      "grid_area": null,
      "grid_auto_columns": null,
      "grid_auto_flow": null,
      "grid_auto_rows": null,
      "grid_column": null,
      "grid_gap": null,
      "grid_row": null,
      "grid_template_areas": null,
      "grid_template_columns": null,
      "grid_template_rows": null,
      "height": null,
      "justify_content": null,
      "justify_items": null,
      "left": null,
      "margin": null,
      "max_height": null,
      "max_width": null,
      "min_height": null,
      "min_width": null,
      "object_fit": null,
      "object_position": null,
      "order": null,
      "overflow": null,
      "overflow_x": null,
      "overflow_y": null,
      "padding": null,
      "right": null,
      "top": null,
      "visibility": null,
      "width": null
     }
    },
    "f2e3d9c72db64aca9610f5d5b6602733": {
     "model_module": "@jupyter-widgets/controls",
     "model_name": "ProgressStyleModel",
     "model_module_version": "1.5.0",
     "state": {
      "_model_module": "@jupyter-widgets/controls",
      "_model_module_version": "1.5.0",
      "_model_name": "ProgressStyleModel",
      "_view_count": null,
      "_view_module": "@jupyter-widgets/base",
      "_view_module_version": "1.2.0",
      "_view_name": "StyleView",
      "bar_color": null,
      "description_width": ""
     }
    },
    "8373ee773feb41de804db1a71b11c391": {
     "model_module": "@jupyter-widgets/base",
     "model_name": "LayoutModel",
     "model_module_version": "1.2.0",
     "state": {
      "_model_module": "@jupyter-widgets/base",
      "_model_module_version": "1.2.0",
      "_model_name": "LayoutModel",
      "_view_count": null,
      "_view_module": "@jupyter-widgets/base",
      "_view_module_version": "1.2.0",
      "_view_name": "LayoutView",
      "align_content": null,
      "align_items": null,
      "align_self": null,
      "border": null,
      "bottom": null,
      "display": null,
      "flex": null,
      "flex_flow": null,
      "grid_area": null,
      "grid_auto_columns": null,
      "grid_auto_flow": null,
      "grid_auto_rows": null,
      "grid_column": null,
      "grid_gap": null,
      "grid_row": null,
      "grid_template_areas": null,
      "grid_template_columns": null,
      "grid_template_rows": null,
      "height": null,
      "justify_content": null,
      "justify_items": null,
      "left": null,
      "margin": null,
      "max_height": null,
      "max_width": null,
      "min_height": null,
      "min_width": null,
      "object_fit": null,
      "object_position": null,
      "order": null,
      "overflow": null,
      "overflow_x": null,
      "overflow_y": null,
      "padding": null,
      "right": null,
      "top": null,
      "visibility": null,
      "width": null
     }
    },
    "781c601df8f5449ab56fdf104869373c": {
     "model_module": "@jupyter-widgets/controls",
     "model_name": "DescriptionStyleModel",
     "model_module_version": "1.5.0",
     "state": {
      "_model_module": "@jupyter-widgets/controls",
      "_model_module_version": "1.5.0",
      "_model_name": "DescriptionStyleModel",
      "_view_count": null,
      "_view_module": "@jupyter-widgets/base",
      "_view_module_version": "1.2.0",
      "_view_name": "StyleView",
      "description_width": ""
     }
    }
   }
  }
 },
 "nbformat": 4,
 "nbformat_minor": 0
}
