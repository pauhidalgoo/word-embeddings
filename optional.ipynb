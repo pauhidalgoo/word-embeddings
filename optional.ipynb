{
 "cells": [
  {
   "cell_type": "code",
   "execution_count": 1,
   "metadata": {},
   "outputs": [
    {
     "name": "stderr",
     "output_type": "stream",
     "text": [
      "c:\\Users\\Cai Selvas Sala\\GIA_UPC\\2nC\\2nQ\\PLH\\Practica4\\word-embeddings\\.venv\\Lib\\site-packages\\tqdm\\auto.py:21: TqdmWarning: IProgress not found. Please update jupyter and ipywidgets. See https://ipywidgets.readthedocs.io/en/stable/user_install.html\n",
      "  from .autonotebook import tqdm as notebook_tqdm\n"
     ]
    }
   ],
   "source": [
    "from datasets import load_dataset"
   ]
  },
  {
   "cell_type": "code",
   "execution_count": 2,
   "metadata": {},
   "outputs": [
    {
     "name": "stderr",
     "output_type": "stream",
     "text": [
      "c:\\Users\\Cai Selvas Sala\\GIA_UPC\\2nC\\2nQ\\PLH\\Practica4\\word-embeddings\\.venv\\Lib\\site-packages\\datasets\\load.py:1486: FutureWarning: The repository for projecte-aina/tecla contains custom code which must be executed to correctly load the dataset. You can inspect the repository content at https://hf.co/datasets/projecte-aina/tecla\n",
      "You can avoid this message in future by passing the argument `trust_remote_code=True`.\n",
      "Passing `trust_remote_code=True` will be mandatory to load this dataset from the next major release of `datasets`.\n",
      "  warnings.warn(\n",
      "Downloading builder script: 100%|██████████| 5.71k/5.71k [00:00<00:00, 5.71MB/s]\n",
      "Downloading readme: 100%|██████████| 8.15k/8.15k [00:00<?, ?B/s]\n",
      "Downloading data: 100%|██████████| 230M/230M [00:21<00:00, 10.8MB/s] \n",
      "Downloading data: 100%|██████████| 14.5M/14.5M [00:01<00:00, 12.6MB/s]\n",
      "Downloading data: 100%|██████████| 43.0M/43.0M [00:03<00:00, 12.2MB/s]\n",
      "Generating train split: 90700 examples [00:02, 35402.37 examples/s]\n",
      "Generating validation split: 5669 examples [00:00, 35182.47 examples/s]\n",
      "Generating test split: 17007 examples [00:00, 38143.84 examples/s]\n"
     ]
    }
   ],
   "source": [
    "dataset = load_dataset(\"projecte-aina/tecla\")\n",
    "\n",
    "train = dataset[\"train\"]\n",
    "val = dataset[\"validation\"]\n",
    "test = dataset[\"test\"]\n",
    "\n",
    "X_train = train[\"text\"]\n",
    "y_train = train[\"label1\"]\n",
    "y_train_2 = train[\"label2\"]\n",
    "\n",
    "X_val = val[\"text\"]\n",
    "y_val = val[\"label1\"]\n",
    "y_val_2 = val[\"label2\"]\n",
    "\n",
    "X_test = test[\"text\"]\n",
    "y_test = test[\"label1\"]\n",
    "y_test_2 = test[\"label2\"]"
   ]
  },
  {
   "cell_type": "code",
   "execution_count": 10,
   "metadata": {},
   "outputs": [],
   "source": []
  }
 ],
 "metadata": {
  "kernelspec": {
   "display_name": ".venv",
   "language": "python",
   "name": "python3"
  },
  "language_info": {
   "codemirror_mode": {
    "name": "ipython",
    "version": 3
   },
   "file_extension": ".py",
   "mimetype": "text/x-python",
   "name": "python",
   "nbconvert_exporter": "python",
   "pygments_lexer": "ipython3",
   "version": "3.11.2"
  }
 },
 "nbformat": 4,
 "nbformat_minor": 2
}
