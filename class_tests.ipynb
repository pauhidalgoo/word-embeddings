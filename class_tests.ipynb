{
 "cells": [
  {
   "cell_type": "code",
   "execution_count": 3,
   "metadata": {},
   "outputs": [
    {
     "name": "stdout",
     "output_type": "stream",
     "text": [
      "[-3.62910e-02  7.82650e-02 -2.33600e-03  7.64180e-02 -2.10180e-02\n",
      "  2.60090e-02 -1.98640e-02  2.83730e-02  2.26340e-02  1.93240e-02\n",
      " -9.59890e-02  1.85550e-02 -8.50000e-05 -6.81210e-02 -6.62490e-02\n",
      "  6.97740e-02 -7.92680e-02  9.53770e-02 -7.78180e-02 -2.72520e-02\n",
      " -2.82690e-02  5.34110e-02 -3.46180e-02 -9.36130e-02 -3.72460e-02\n",
      " -1.13550e-01  8.49070e-02  8.01400e-02  4.47880e-02 -1.87240e-02\n",
      " -7.40890e-02 -3.30710e-02  1.90700e-03 -4.50970e-02 -5.59660e-02\n",
      " -6.12750e-02  5.78100e-03  4.09140e-02 -9.02200e-03 -3.44400e-02\n",
      " -5.71650e-02  3.93960e-02  2.02020e-02 -4.36840e-02  2.20170e-02\n",
      "  8.49680e-02  4.84430e-02 -2.67490e-02  2.28390e-02  1.89060e-02\n",
      " -2.51760e-02 -1.02130e-02  3.19860e-02  1.54819e-01 -5.94140e-02\n",
      "  1.57501e-01 -5.31140e-02 -4.10080e-02  1.55636e-01  9.86000e-03\n",
      " -9.91430e-02 -3.41430e-02  5.84860e-02  7.23630e-02  4.58240e-02\n",
      " -6.10110e-02 -2.92810e-02  9.63660e-02  3.01350e-02 -6.71530e-02\n",
      " -6.78580e-02 -5.79600e-02  1.79540e-02 -9.95260e-02  3.64140e-02\n",
      " -1.31150e-02 -1.03156e-01 -1.00150e-01 -4.05100e-03 -6.94450e-02\n",
      " -1.08850e-02  2.31100e-03 -6.73590e-02  4.58050e-02  5.78420e-02\n",
      " -1.04903e-01  2.01870e-02  1.02983e-01 -3.37870e-02  4.16860e-02\n",
      "  8.66740e-02  6.95710e-02 -1.28020e-02 -5.25700e-03 -7.15280e-02\n",
      "  8.70180e-02  7.58100e-02 -3.81670e-02  1.71000e-03  8.15600e-03\n",
      "  4.50790e-02 -3.95630e-02  4.09370e-02 -1.74600e-02  3.11880e-02\n",
      "  4.61440e-02 -1.39020e-02  7.24970e-02 -4.92250e-02  7.19770e-02\n",
      " -4.04870e-02  2.57620e-02  1.01700e-03  1.60700e-02 -5.79820e-02\n",
      " -8.61780e-02 -2.89150e-02 -2.45740e-02  6.99720e-02  8.09820e-02\n",
      "  2.75450e-02  1.92000e-04  3.64790e-02 -1.29110e-02  1.81680e-02\n",
      "  3.44200e-02  2.57950e-02  9.42370e-02 -1.70000e-04 -2.31030e-02\n",
      " -1.20985e-01 -2.43660e-02  1.85070e-02 -6.85700e-02  5.71010e-02\n",
      " -7.87260e-02  5.51510e-02  2.96730e-02 -1.36800e-03  4.20000e-02\n",
      "  8.32150e-02  5.22370e-02 -9.64000e-04  6.85480e-02 -3.82160e-02\n",
      " -5.56180e-02 -1.79070e-02 -5.97540e-02  6.97490e-02 -4.47140e-02\n",
      " -2.42430e-02 -7.99100e-03 -1.89860e-02 -1.15981e-01 -5.23340e-02\n",
      " -8.29730e-02 -3.78260e-02  6.30070e-02 -2.70540e-02 -7.19180e-02\n",
      "  3.25100e-03 -4.73970e-02 -4.93650e-02  7.77630e-02  2.02510e-02\n",
      " -4.13970e-02  2.10500e-03 -1.28250e-02  1.28200e-03  8.52840e-02\n",
      " -1.08290e-02 -1.84610e-02 -9.97070e-02  2.09160e-02  1.11830e-02\n",
      "  4.79000e-02 -8.44330e-02  1.32020e-02 -3.61240e-02  6.31900e-03\n",
      "  1.22341e-01  5.31840e-02 -4.94660e-02 -4.04700e-02  9.80000e-02\n",
      "  4.46030e-02 -7.10110e-02  6.02040e-02 -3.67600e-02  1.11150e-01\n",
      " -9.76750e-02 -1.46420e-01 -8.84500e-03 -9.71400e-03 -1.10901e-01\n",
      " -3.35890e-02  6.76490e-02 -3.66070e-02 -9.25990e-02 -3.74100e-02\n",
      "  2.84330e-02  4.65490e-02 -7.40180e-02  1.96890e-02  7.34570e-02\n",
      " -1.37100e-03  3.63940e-02 -1.10587e-01  3.35570e-02  1.44202e-01\n",
      "  6.95100e-03 -7.84910e-02 -8.64850e-02 -9.04310e-02 -7.85820e-02\n",
      " -3.69900e-03 -7.17000e-03 -3.69640e-02 -4.90400e-02  1.99980e-02\n",
      " -2.26670e-02  1.55600e-03 -4.59040e-02  4.93470e-02  3.79850e-02\n",
      "  2.34270e-02 -2.85530e-02 -4.90930e-02 -2.99510e-02 -1.02020e-01\n",
      " -8.70990e-02 -1.50420e-02 -1.55000e-03 -7.01620e-02 -5.98640e-02\n",
      "  6.14170e-02 -5.40090e-02 -5.72630e-02  6.06210e-02 -5.93650e-02\n",
      " -5.55920e-02 -3.64460e-02 -1.23460e-02 -9.15100e-02  1.12900e-03\n",
      " -8.13720e-02  6.93800e-03  3.98080e-02  5.37620e-02  3.61200e-03\n",
      "  9.28780e-02  4.40890e-02  1.17060e-02 -9.11100e-03  3.12600e-02\n",
      " -2.53440e-02  1.01890e-02  3.04900e-02 -1.87800e-02 -3.20680e-02\n",
      " -9.08300e-03  5.56300e-03 -1.85470e-02  5.07900e-03  1.35590e-02\n",
      " -6.85830e-02 -3.23980e-02 -3.88400e-02 -6.21960e-02  1.15421e-01\n",
      " -3.98720e-02 -7.48590e-02  2.75380e-02 -2.10620e-02  8.50530e-02\n",
      " -6.03790e-02 -3.92810e-02  5.55700e-03 -2.22890e-02  4.89300e-03\n",
      "  3.31020e-02 -2.51800e-03  3.41060e-02  1.70100e-03 -1.62553e-01\n",
      "  2.72260e-02 -7.98200e-02  3.44490e-02  6.88460e-02 -3.51540e-02\n",
      "  1.16671e-01  5.57230e-02  3.58160e-02  4.70990e-02 -5.55100e-03\n",
      " -4.47930e-02  7.84370e-02 -6.82580e-02 -2.02550e-02 -1.84020e-02]\n"
     ]
    }
   ],
   "source": [
    "from gensim.models import KeyedVectors\n",
    "# Word2vec permet dos formats: text i binari\n",
    "kv = KeyedVectors.load_word2vec_format('Models/Word2vec/word2vec.bin', binary=True)\n",
    "# Obtenir un word-vector\n",
    "print(kv[\"word_NOUN\"]) if \"word_NOUN\" in kv.key_to_index else None# -> NDArray"
   ]
  },
  {
   "cell_type": "code",
   "execution_count": 6,
   "metadata": {},
   "outputs": [
    {
     "name": "stdout",
     "output_type": "stream",
     "text": [
      "[-0.2218492   0.38640803  0.11448377  0.1106556   0.01463737 -0.46431208\n",
      "  0.24866253  0.67114514 -0.44152877 -0.3724467  -0.23160091 -0.30617028\n",
      "  0.07382843  0.09786642 -0.03778657 -0.16018546  0.3671864  -0.11808784\n",
      " -0.10922093 -0.7390131   0.29259965  0.19950056  0.45560068 -0.11725867\n",
      " -0.06393964  0.24808845 -0.29703546 -0.01820532 -0.22180805  0.13514224\n",
      "  0.20076372 -0.06454811  0.19967622 -0.3414035  -0.10380038  0.21093555\n",
      "  0.12148227 -0.16155344 -0.10593397 -0.15250547  0.20508799 -0.35246974\n",
      " -0.27729216  0.10344611  0.18231991 -0.08838601 -0.24407463 -0.08395823\n",
      "  0.3232424   0.03949263  0.3615291  -0.12641531  0.01895562 -0.0289643\n",
      " -0.28838778  0.1900904   0.29310742 -0.13082667 -0.20567685  0.056843\n",
      "  0.01589765 -0.07849205  0.10738277  0.02667306 -0.2506275   0.37846172\n",
      "  0.08902554  0.10214367 -0.29478195  0.3155655  -0.0776944   0.23207617\n",
      "  0.22488534 -0.0108167   0.17250669  0.14917955  0.08848903  0.20444892\n",
      " -0.11657967  0.04595662 -0.4717319   0.12690976 -0.16362861  0.23724307\n",
      " -0.04438388 -0.03003623  0.22845876  0.13059488  0.30515993  0.15998493\n",
      "  0.16841264 -0.07253134 -0.04824469 -0.13913374  0.44199404  0.24360512\n",
      "  0.12336093 -0.3603135   0.13711034  0.08771848]\n"
     ]
    }
   ],
   "source": [
    "from nltk.corpus import europarl_raw\n",
    "corpus = europarl_raw.spanish.words()\n",
    "# Entrenar el model\n",
    "from gensim.models import word2vec\n",
    "model = word2vec.Word2Vec([corpus], vector_size=100, window=5, min_count=10, workers=8, epochs=25)\n",
    "# Obtenir un word-vector\n",
    "\n",
    "\n",
    "print(model.wv[\"ciudadanos\"]) if \"ciudadanos\" in model.wv.key_to_index else None # -> NDArray\n",
    "# <!> Aquest dataset és massa petit, els embeddings generats no són de bona qualitat"
   ]
  },
  {
   "cell_type": "code",
   "execution_count": 12,
   "metadata": {},
   "outputs": [
    {
     "name": "stdout",
     "output_type": "stream",
     "text": [
      "0.0\n"
     ]
    }
   ],
   "source": [
    "from gensim.test.utils import datapath\n",
    "analogies_result = kv.evaluate_word_analogies(datapath('questions-words.txt'))\n",
    "print(analogies_result[0])"
   ]
  },
  {
   "cell_type": "code",
   "execution_count": 15,
   "metadata": {},
   "outputs": [
    {
     "ename": "ValueError",
     "evalue": "No valid similarity judgements found in c:\\Users\\Usuario\\Documents\\Universitat\\4rt Quatri\\PLH\\Practica4\\word-embeddings\\.venv\\Lib\\site-packages\\gensim\\test\\test_data\\wordsim353.tsv: either invalid format or all are out-of-vocabulary in KeyedVectors<vector_size=300, 163473 keys>",
     "output_type": "error",
     "traceback": [
      "\u001b[1;31m---------------------------------------------------------------------------\u001b[0m",
      "\u001b[1;31mValueError\u001b[0m                                Traceback (most recent call last)",
      "Cell \u001b[1;32mIn[15], line 1\u001b[0m\n\u001b[1;32m----> 1\u001b[0m analogies_result \u001b[38;5;241m=\u001b[39m \u001b[43mkv\u001b[49m\u001b[38;5;241;43m.\u001b[39;49m\u001b[43mevaluate_word_pairs\u001b[49m\u001b[43m(\u001b[49m\u001b[43mdatapath\u001b[49m\u001b[43m(\u001b[49m\u001b[38;5;124;43m'\u001b[39;49m\u001b[38;5;124;43mwordsim353.tsv\u001b[39;49m\u001b[38;5;124;43m'\u001b[39;49m\u001b[43m)\u001b[49m\u001b[43m)\u001b[49m\n\u001b[0;32m      2\u001b[0m \u001b[38;5;28mprint\u001b[39m(analogies_result) \u001b[38;5;66;03m# -> (pearson, spearman, oov_ratio, )\u001b[39;00m\n",
      "File \u001b[1;32mc:\\Users\\Usuario\\Documents\\Universitat\\4rt Quatri\\PLH\\Practica4\\word-embeddings\\.venv\\Lib\\site-packages\\gensim\\models\\keyedvectors.py:1506\u001b[0m, in \u001b[0;36mKeyedVectors.evaluate_word_pairs\u001b[1;34m(self, pairs, delimiter, encoding, restrict_vocab, case_insensitive, dummy4unknown)\u001b[0m\n\u001b[0;32m   1504\u001b[0m \u001b[38;5;28;01massert\u001b[39;00m \u001b[38;5;28mlen\u001b[39m(similarity_gold) \u001b[38;5;241m==\u001b[39m \u001b[38;5;28mlen\u001b[39m(similarity_model)\n\u001b[0;32m   1505\u001b[0m \u001b[38;5;28;01mif\u001b[39;00m \u001b[38;5;129;01mnot\u001b[39;00m similarity_gold:\n\u001b[1;32m-> 1506\u001b[0m     \u001b[38;5;28;01mraise\u001b[39;00m \u001b[38;5;167;01mValueError\u001b[39;00m(\n\u001b[0;32m   1507\u001b[0m         \u001b[38;5;124mf\u001b[39m\u001b[38;5;124m\"\u001b[39m\u001b[38;5;124mNo valid similarity judgements found in \u001b[39m\u001b[38;5;132;01m{\u001b[39;00mpairs\u001b[38;5;132;01m}\u001b[39;00m\u001b[38;5;124m: either invalid format or \u001b[39m\u001b[38;5;124m\"\u001b[39m\n\u001b[0;32m   1508\u001b[0m         \u001b[38;5;124mf\u001b[39m\u001b[38;5;124m\"\u001b[39m\u001b[38;5;124mall are out-of-vocabulary in \u001b[39m\u001b[38;5;132;01m{\u001b[39;00m\u001b[38;5;28mself\u001b[39m\u001b[38;5;132;01m}\u001b[39;00m\u001b[38;5;124m\"\u001b[39m\n\u001b[0;32m   1509\u001b[0m     )\n\u001b[0;32m   1510\u001b[0m spearman \u001b[38;5;241m=\u001b[39m stats\u001b[38;5;241m.\u001b[39mspearmanr(similarity_gold, similarity_model)\n\u001b[0;32m   1511\u001b[0m pearson \u001b[38;5;241m=\u001b[39m stats\u001b[38;5;241m.\u001b[39mpearsonr(similarity_gold, similarity_model)\n",
      "\u001b[1;31mValueError\u001b[0m: No valid similarity judgements found in c:\\Users\\Usuario\\Documents\\Universitat\\4rt Quatri\\PLH\\Practica4\\word-embeddings\\.venv\\Lib\\site-packages\\gensim\\test\\test_data\\wordsim353.tsv: either invalid format or all are out-of-vocabulary in KeyedVectors<vector_size=300, 163473 keys>"
     ]
    }
   ],
   "source": [
    "analogies_result = kv.evaluate_word_pairs(datapath('wordsim353.tsv'))\n",
    "print(analogies_result) # -> (pearson, spearman, oov_ratio, )"
   ]
  },
  {
   "cell_type": "code",
   "execution_count": null,
   "metadata": {},
   "outputs": [],
   "source": [
    "import gensim\n",
    "# Soporta .bin (binari) i .vec (text pla)\n",
    "#model = gensim.models.fasttext.load_facebook_model('./cc.ca.300.bin.gz')"
   ]
  },
  {
   "cell_type": "code",
   "execution_count": 17,
   "metadata": {},
   "outputs": [
    {
     "ename": "FileNotFoundError",
     "evalue": "[Errno 2] No such file or directory: './models/fasttext/cc_ca_300'",
     "output_type": "error",
     "traceback": [
      "\u001b[1;31m---------------------------------------------------------------------------\u001b[0m",
      "\u001b[1;31mFileNotFoundError\u001b[0m                         Traceback (most recent call last)",
      "Cell \u001b[1;32mIn[17], line 4\u001b[0m\n\u001b[0;32m      1\u001b[0m \u001b[38;5;66;03m#model.save('fasttext.bin')\u001b[39;00m\n\u001b[0;32m      2\u001b[0m \u001b[38;5;66;03m# Llavors podeu carregar el model com a mmap\u001b[39;00m\n\u001b[0;32m      3\u001b[0m \u001b[38;5;28;01mfrom\u001b[39;00m \u001b[38;5;21;01mgensim\u001b[39;00m\u001b[38;5;21;01m.\u001b[39;00m\u001b[38;5;21;01mmodels\u001b[39;00m \u001b[38;5;28;01mimport\u001b[39;00m FastText\n\u001b[1;32m----> 4\u001b[0m model \u001b[38;5;241m=\u001b[39m \u001b[43mFastText\u001b[49m\u001b[38;5;241;43m.\u001b[39;49m\u001b[43mload\u001b[49m\u001b[43m(\u001b[49m\u001b[38;5;124;43m'\u001b[39;49m\u001b[38;5;124;43m./models/fasttext/cc_ca_300\u001b[39;49m\u001b[38;5;124;43m'\u001b[39;49m\u001b[43m,\u001b[49m\u001b[43m \u001b[49m\u001b[43mmmap\u001b[49m\u001b[38;5;241;43m=\u001b[39;49m\u001b[38;5;124;43m'\u001b[39;49m\u001b[38;5;124;43mr\u001b[39;49m\u001b[38;5;124;43m'\u001b[39;49m\u001b[43m)\u001b[49m\n",
      "File \u001b[1;32mc:\\Users\\Usuario\\Documents\\Universitat\\4rt Quatri\\PLH\\Practica4\\word-embeddings\\.venv\\Lib\\site-packages\\gensim\\models\\fasttext.py:637\u001b[0m, in \u001b[0;36mFastText.load\u001b[1;34m(cls, *args, **kwargs)\u001b[0m\n\u001b[0;32m    617\u001b[0m \u001b[38;5;129m@classmethod\u001b[39m\n\u001b[0;32m    618\u001b[0m \u001b[38;5;28;01mdef\u001b[39;00m \u001b[38;5;21mload\u001b[39m(\u001b[38;5;28mcls\u001b[39m, \u001b[38;5;241m*\u001b[39margs, \u001b[38;5;241m*\u001b[39m\u001b[38;5;241m*\u001b[39mkwargs):\n\u001b[0;32m    619\u001b[0m \u001b[38;5;250m    \u001b[39m\u001b[38;5;124;03m\"\"\"Load a previously saved `FastText` model.\u001b[39;00m\n\u001b[0;32m    620\u001b[0m \n\u001b[0;32m    621\u001b[0m \u001b[38;5;124;03m    Parameters\u001b[39;00m\n\u001b[1;32m   (...)\u001b[0m\n\u001b[0;32m    635\u001b[0m \n\u001b[0;32m    636\u001b[0m \u001b[38;5;124;03m    \"\"\"\u001b[39;00m\n\u001b[1;32m--> 637\u001b[0m     \u001b[38;5;28;01mreturn\u001b[39;00m \u001b[38;5;28;43msuper\u001b[39;49m\u001b[43m(\u001b[49m\u001b[43mFastText\u001b[49m\u001b[43m,\u001b[49m\u001b[43m \u001b[49m\u001b[38;5;28;43mcls\u001b[39;49m\u001b[43m)\u001b[49m\u001b[38;5;241;43m.\u001b[39;49m\u001b[43mload\u001b[49m\u001b[43m(\u001b[49m\u001b[38;5;241;43m*\u001b[39;49m\u001b[43margs\u001b[49m\u001b[43m,\u001b[49m\u001b[43m \u001b[49m\u001b[43mrethrow\u001b[49m\u001b[38;5;241;43m=\u001b[39;49m\u001b[38;5;28;43;01mTrue\u001b[39;49;00m\u001b[43m,\u001b[49m\u001b[43m \u001b[49m\u001b[38;5;241;43m*\u001b[39;49m\u001b[38;5;241;43m*\u001b[39;49m\u001b[43mkwargs\u001b[49m\u001b[43m)\u001b[49m\n",
      "File \u001b[1;32mc:\\Users\\Usuario\\Documents\\Universitat\\4rt Quatri\\PLH\\Practica4\\word-embeddings\\.venv\\Lib\\site-packages\\gensim\\models\\word2vec.py:1953\u001b[0m, in \u001b[0;36mWord2Vec.load\u001b[1;34m(cls, rethrow, *args, **kwargs)\u001b[0m\n\u001b[0;32m   1934\u001b[0m \u001b[38;5;250m\u001b[39m\u001b[38;5;124;03m\"\"\"Load a previously saved :class:`~gensim.models.word2vec.Word2Vec` model.\u001b[39;00m\n\u001b[0;32m   1935\u001b[0m \n\u001b[0;32m   1936\u001b[0m \u001b[38;5;124;03mSee Also\u001b[39;00m\n\u001b[1;32m   (...)\u001b[0m\n\u001b[0;32m   1950\u001b[0m \n\u001b[0;32m   1951\u001b[0m \u001b[38;5;124;03m\"\"\"\u001b[39;00m\n\u001b[0;32m   1952\u001b[0m \u001b[38;5;28;01mtry\u001b[39;00m:\n\u001b[1;32m-> 1953\u001b[0m     model \u001b[38;5;241m=\u001b[39m \u001b[38;5;28;43msuper\u001b[39;49m\u001b[43m(\u001b[49m\u001b[43mWord2Vec\u001b[49m\u001b[43m,\u001b[49m\u001b[43m \u001b[49m\u001b[38;5;28;43mcls\u001b[39;49m\u001b[43m)\u001b[49m\u001b[38;5;241;43m.\u001b[39;49m\u001b[43mload\u001b[49m\u001b[43m(\u001b[49m\u001b[38;5;241;43m*\u001b[39;49m\u001b[43margs\u001b[49m\u001b[43m,\u001b[49m\u001b[43m \u001b[49m\u001b[38;5;241;43m*\u001b[39;49m\u001b[38;5;241;43m*\u001b[39;49m\u001b[43mkwargs\u001b[49m\u001b[43m)\u001b[49m\n\u001b[0;32m   1954\u001b[0m     \u001b[38;5;28;01mif\u001b[39;00m \u001b[38;5;129;01mnot\u001b[39;00m \u001b[38;5;28misinstance\u001b[39m(model, Word2Vec):\n\u001b[0;32m   1955\u001b[0m         rethrow \u001b[38;5;241m=\u001b[39m \u001b[38;5;28;01mTrue\u001b[39;00m\n",
      "File \u001b[1;32mc:\\Users\\Usuario\\Documents\\Universitat\\4rt Quatri\\PLH\\Practica4\\word-embeddings\\.venv\\Lib\\site-packages\\gensim\\utils.py:486\u001b[0m, in \u001b[0;36mSaveLoad.load\u001b[1;34m(cls, fname, mmap)\u001b[0m\n\u001b[0;32m    482\u001b[0m logger\u001b[38;5;241m.\u001b[39minfo(\u001b[38;5;124m\"\u001b[39m\u001b[38;5;124mloading \u001b[39m\u001b[38;5;132;01m%s\u001b[39;00m\u001b[38;5;124m object from \u001b[39m\u001b[38;5;132;01m%s\u001b[39;00m\u001b[38;5;124m\"\u001b[39m, \u001b[38;5;28mcls\u001b[39m\u001b[38;5;241m.\u001b[39m\u001b[38;5;18m__name__\u001b[39m, fname)\n\u001b[0;32m    484\u001b[0m compress, subname \u001b[38;5;241m=\u001b[39m SaveLoad\u001b[38;5;241m.\u001b[39m_adapt_by_suffix(fname)\n\u001b[1;32m--> 486\u001b[0m obj \u001b[38;5;241m=\u001b[39m \u001b[43munpickle\u001b[49m\u001b[43m(\u001b[49m\u001b[43mfname\u001b[49m\u001b[43m)\u001b[49m\n\u001b[0;32m    487\u001b[0m obj\u001b[38;5;241m.\u001b[39m_load_specials(fname, mmap, compress, subname)\n\u001b[0;32m    488\u001b[0m obj\u001b[38;5;241m.\u001b[39madd_lifecycle_event(\u001b[38;5;124m\"\u001b[39m\u001b[38;5;124mloaded\u001b[39m\u001b[38;5;124m\"\u001b[39m, fname\u001b[38;5;241m=\u001b[39mfname)\n",
      "File \u001b[1;32mc:\\Users\\Usuario\\Documents\\Universitat\\4rt Quatri\\PLH\\Practica4\\word-embeddings\\.venv\\Lib\\site-packages\\gensim\\utils.py:1460\u001b[0m, in \u001b[0;36munpickle\u001b[1;34m(fname)\u001b[0m\n\u001b[0;32m   1446\u001b[0m \u001b[38;5;28;01mdef\u001b[39;00m \u001b[38;5;21munpickle\u001b[39m(fname):\n\u001b[0;32m   1447\u001b[0m \u001b[38;5;250m    \u001b[39m\u001b[38;5;124;03m\"\"\"Load object from `fname`, using smart_open so that `fname` can be on S3, HDFS, compressed etc.\u001b[39;00m\n\u001b[0;32m   1448\u001b[0m \n\u001b[0;32m   1449\u001b[0m \u001b[38;5;124;03m    Parameters\u001b[39;00m\n\u001b[1;32m   (...)\u001b[0m\n\u001b[0;32m   1458\u001b[0m \n\u001b[0;32m   1459\u001b[0m \u001b[38;5;124;03m    \"\"\"\u001b[39;00m\n\u001b[1;32m-> 1460\u001b[0m     \u001b[38;5;28;01mwith\u001b[39;00m \u001b[38;5;28;43mopen\u001b[39;49m\u001b[43m(\u001b[49m\u001b[43mfname\u001b[49m\u001b[43m,\u001b[49m\u001b[43m \u001b[49m\u001b[38;5;124;43m'\u001b[39;49m\u001b[38;5;124;43mrb\u001b[39;49m\u001b[38;5;124;43m'\u001b[39;49m\u001b[43m)\u001b[49m \u001b[38;5;28;01mas\u001b[39;00m f:\n\u001b[0;32m   1461\u001b[0m         \u001b[38;5;28;01mreturn\u001b[39;00m _pickle\u001b[38;5;241m.\u001b[39mload(f, encoding\u001b[38;5;241m=\u001b[39m\u001b[38;5;124m'\u001b[39m\u001b[38;5;124mlatin1\u001b[39m\u001b[38;5;124m'\u001b[39m)\n",
      "File \u001b[1;32mc:\\Users\\Usuario\\Documents\\Universitat\\4rt Quatri\\PLH\\Practica4\\word-embeddings\\.venv\\Lib\\site-packages\\smart_open\\smart_open_lib.py:177\u001b[0m, in \u001b[0;36mopen\u001b[1;34m(uri, mode, buffering, encoding, errors, newline, closefd, opener, compression, transport_params)\u001b[0m\n\u001b[0;32m    174\u001b[0m \u001b[38;5;28;01mif\u001b[39;00m transport_params \u001b[38;5;129;01mis\u001b[39;00m \u001b[38;5;28;01mNone\u001b[39;00m:\n\u001b[0;32m    175\u001b[0m     transport_params \u001b[38;5;241m=\u001b[39m {}\n\u001b[1;32m--> 177\u001b[0m fobj \u001b[38;5;241m=\u001b[39m \u001b[43m_shortcut_open\u001b[49m\u001b[43m(\u001b[49m\n\u001b[0;32m    178\u001b[0m \u001b[43m    \u001b[49m\u001b[43muri\u001b[49m\u001b[43m,\u001b[49m\n\u001b[0;32m    179\u001b[0m \u001b[43m    \u001b[49m\u001b[43mmode\u001b[49m\u001b[43m,\u001b[49m\n\u001b[0;32m    180\u001b[0m \u001b[43m    \u001b[49m\u001b[43mcompression\u001b[49m\u001b[38;5;241;43m=\u001b[39;49m\u001b[43mcompression\u001b[49m\u001b[43m,\u001b[49m\n\u001b[0;32m    181\u001b[0m \u001b[43m    \u001b[49m\u001b[43mbuffering\u001b[49m\u001b[38;5;241;43m=\u001b[39;49m\u001b[43mbuffering\u001b[49m\u001b[43m,\u001b[49m\n\u001b[0;32m    182\u001b[0m \u001b[43m    \u001b[49m\u001b[43mencoding\u001b[49m\u001b[38;5;241;43m=\u001b[39;49m\u001b[43mencoding\u001b[49m\u001b[43m,\u001b[49m\n\u001b[0;32m    183\u001b[0m \u001b[43m    \u001b[49m\u001b[43merrors\u001b[49m\u001b[38;5;241;43m=\u001b[39;49m\u001b[43merrors\u001b[49m\u001b[43m,\u001b[49m\n\u001b[0;32m    184\u001b[0m \u001b[43m    \u001b[49m\u001b[43mnewline\u001b[49m\u001b[38;5;241;43m=\u001b[39;49m\u001b[43mnewline\u001b[49m\u001b[43m,\u001b[49m\n\u001b[0;32m    185\u001b[0m \u001b[43m\u001b[49m\u001b[43m)\u001b[49m\n\u001b[0;32m    186\u001b[0m \u001b[38;5;28;01mif\u001b[39;00m fobj \u001b[38;5;129;01mis\u001b[39;00m \u001b[38;5;129;01mnot\u001b[39;00m \u001b[38;5;28;01mNone\u001b[39;00m:\n\u001b[0;32m    187\u001b[0m     \u001b[38;5;28;01mreturn\u001b[39;00m fobj\n",
      "File \u001b[1;32mc:\\Users\\Usuario\\Documents\\Universitat\\4rt Quatri\\PLH\\Practica4\\word-embeddings\\.venv\\Lib\\site-packages\\smart_open\\smart_open_lib.py:363\u001b[0m, in \u001b[0;36m_shortcut_open\u001b[1;34m(uri, mode, compression, buffering, encoding, errors, newline)\u001b[0m\n\u001b[0;32m    360\u001b[0m \u001b[38;5;28;01mif\u001b[39;00m errors \u001b[38;5;129;01mand\u001b[39;00m \u001b[38;5;124m'\u001b[39m\u001b[38;5;124mb\u001b[39m\u001b[38;5;124m'\u001b[39m \u001b[38;5;129;01mnot\u001b[39;00m \u001b[38;5;129;01min\u001b[39;00m mode:\n\u001b[0;32m    361\u001b[0m     open_kwargs[\u001b[38;5;124m'\u001b[39m\u001b[38;5;124merrors\u001b[39m\u001b[38;5;124m'\u001b[39m] \u001b[38;5;241m=\u001b[39m errors\n\u001b[1;32m--> 363\u001b[0m \u001b[38;5;28;01mreturn\u001b[39;00m \u001b[43m_builtin_open\u001b[49m\u001b[43m(\u001b[49m\u001b[43mlocal_path\u001b[49m\u001b[43m,\u001b[49m\u001b[43m \u001b[49m\u001b[43mmode\u001b[49m\u001b[43m,\u001b[49m\u001b[43m \u001b[49m\u001b[43mbuffering\u001b[49m\u001b[38;5;241;43m=\u001b[39;49m\u001b[43mbuffering\u001b[49m\u001b[43m,\u001b[49m\u001b[43m \u001b[49m\u001b[38;5;241;43m*\u001b[39;49m\u001b[38;5;241;43m*\u001b[39;49m\u001b[43mopen_kwargs\u001b[49m\u001b[43m)\u001b[49m\n",
      "\u001b[1;31mFileNotFoundError\u001b[0m: [Errno 2] No such file or directory: './models/fasttext/cc_ca_300'"
     ]
    }
   ],
   "source": [
    "#model.save('fasttext.bin')\n",
    "# Llavors podeu carregar el model com a mmap\n",
    "from gensim.models import FastText\n",
    "model = FastText.load('./models/fasttext/cc_ca_300', mmap='r')"
   ]
  },
  {
   "cell_type": "code",
   "execution_count": null,
   "metadata": {},
   "outputs": [],
   "source": [
    "!pip install pandas"
   ]
  },
  {
   "cell_type": "code",
   "execution_count": null,
   "metadata": {},
   "outputs": [],
   "source": [
    "from sklearn.manifold import TSNE\n",
    "import matplotlib.pyplot as plt\n",
    "import pandas as pd\n",
    "# \"vocab\" és una llista de paraules\n",
    "vocab = [\"this\", \"man\", \"woman\", \"king\", \"queen\"]\n",
    "X = model.wv[vocab]\n",
    "# Entrenar el model de t-SNE\n",
    "tsne = TSNE(n_components=2)\n",
    "X_tsne = tsne.fit_transform(X)\n",
    "# Crea un Dataframe\n",
    "df = pd.DataFrame(X_tsne, index=vocab, columns=['x', 'y'])\n",
    "# Imprimeix\n",
    "fig = plt.figure()\n",
    "ax = fig.add_subplot(1, 1, 1)\n",
    "ax.scatter(df['x'], df['y'])\n",
    "# Afegeix les etiquetes\n",
    "for word, pos in df.iterrows():\n",
    "    ax.annotate(word, pos)"
   ]
  }
 ],
 "metadata": {
  "kernelspec": {
   "display_name": "Python 3",
   "language": "python",
   "name": "python3"
  },
  "language_info": {
   "codemirror_mode": {
    "name": "ipython",
    "version": 3
   },
   "file_extension": ".py",
   "mimetype": "text/x-python",
   "name": "python",
   "nbconvert_exporter": "python",
   "pygments_lexer": "ipython3",
   "version": "3.11.9"
  }
 },
 "nbformat": 4,
 "nbformat_minor": 2
}
