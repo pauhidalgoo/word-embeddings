{
 "cells": [
  {
   "cell_type": "code",
   "execution_count": 1,
   "metadata": {},
   "outputs": [
    {
     "name": "stderr",
     "output_type": "stream",
     "text": [
      "e:\\Development\\VSCODE\\University\\PLH\\word-embeddings\\.venv\\Lib\\site-packages\\tqdm\\auto.py:21: TqdmWarning: IProgress not found. Please update jupyter and ipywidgets. See https://ipywidgets.readthedocs.io/en/stable/user_install.html\n",
      "  from .autonotebook import tqdm as notebook_tqdm\n",
      "[nltk_data] Downloading package punkt to\n",
      "[nltk_data]     C:\\Users\\Drashby\\AppData\\Roaming\\nltk_data...\n",
      "[nltk_data]   Package punkt is already up-to-date!\n"
     ]
    }
   ],
   "source": [
    "from gensim.models import Word2Vec, FastText\n",
    "\n",
    "from word_vectorizer import WordVectorizer"
   ]
  },
  {
   "cell_type": "code",
   "execution_count": 2,
   "metadata": {},
   "outputs": [],
   "source": [
    "vectorizer = WordVectorizer()"
   ]
  },
  {
   "cell_type": "code",
   "execution_count": 3,
   "metadata": {},
   "outputs": [
    {
     "name": "stdout",
     "output_type": "stream",
     "text": [
      "Dataset in ./data/raw_cat_gc_1000mb.pkl already exists.\n"
     ]
    }
   ],
   "source": [
    "vectorizer.load_data(size_mb=1000)"
   ]
  },
  {
   "cell_type": "code",
   "execution_count": 4,
   "metadata": {},
   "outputs": [
    {
     "name": "stdout",
     "output_type": "stream",
     "text": [
      "CUDA GPU available. Using spacy with CUDA.\n",
      "Tokenized 420500/420088 texts with spacy.\r"
     ]
    }
   ],
   "source": [
    "vectorizer.tokenize(tokenizer='spacy', caps=False, batch_size=500)"
   ]
  },
  {
   "cell_type": "code",
   "execution_count": 5,
   "metadata": {},
   "outputs": [
    {
     "name": "stdout",
     "output_type": "stream",
     "text": [
      "Loading tokenized texts from ./data/spacy_cat_gc_1000mb.pkl...\n",
      "Training word2vec model with skipgram...\n"
     ]
    }
   ],
   "source": [
    "model: Word2Vec | FastText = vectorizer.train(vectorizer='word2vec', model_type='skipgram', vector_size=100, workers=16, save=True)"
   ]
  },
  {
   "cell_type": "code",
   "execution_count": 6,
   "metadata": {},
   "outputs": [
    {
     "data": {
      "text/plain": [
       "[('presumida', 0.756813645362854),\n",
       " ('eixerida', 0.7546934485435486),\n",
       " ('maca', 0.7537257671356201),\n",
       " ('lletja', 0.747908890247345),\n",
       " ('bombera', 0.740748405456543),\n",
       " ('guarra', 0.7309250831604004),\n",
       " ('sexi', 0.7291626334190369),\n",
       " ('anorèxica', 0.7274548411369324),\n",
       " ('guapo', 0.7272195219993591),\n",
       " ('maquillada', 0.7254548072814941)]"
      ]
     },
     "execution_count": 6,
     "metadata": {},
     "output_type": "execute_result"
    }
   ],
   "source": [
    "model.wv.most_similar('guapa', topn=10)"
   ]
  },
  {
   "cell_type": "code",
   "execution_count": 7,
   "metadata": {},
   "outputs": [
    {
     "data": {
      "text/plain": [
       "(PearsonRResult(statistic=0.5314063332433877, pvalue=2.751945461367886e-17),\n",
       " SignificanceResult(statistic=0.5576091637094459, pvalue=3.282086434342122e-19),\n",
       " 1.3574660633484164)"
      ]
     },
     "execution_count": 7,
     "metadata": {},
     "output_type": "execute_result"
    }
   ],
   "source": [
    "# Evaluate the model\n",
    "metrics = model.wv.evaluate_word_pairs('./data/wordsim353.en.ca.txt', encoding='utf-8')\n",
    "metrics"
   ]
  }
 ],
 "metadata": {
  "kernelspec": {
   "display_name": ".venv",
   "language": "python",
   "name": "python3"
  },
  "language_info": {
   "codemirror_mode": {
    "name": "ipython",
    "version": 3
   },
   "file_extension": ".py",
   "mimetype": "text/x-python",
   "name": "python",
   "nbconvert_exporter": "python",
   "pygments_lexer": "ipython3",
   "version": "3.11.3"
  }
 },
 "nbformat": 4,
 "nbformat_minor": 2
}
