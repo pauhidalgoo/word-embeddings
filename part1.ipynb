{
 "cells": [
  {
   "cell_type": "code",
   "execution_count": 1,
   "metadata": {},
   "outputs": [
    {
     "name": "stderr",
     "output_type": "stream",
     "text": [
      "e:\\Development\\VSCODE\\University\\PLH\\word-embeddings\\.venv\\Lib\\site-packages\\tqdm\\auto.py:21: TqdmWarning: IProgress not found. Please update jupyter and ipywidgets. See https://ipywidgets.readthedocs.io/en/stable/user_install.html\n",
      "  from .autonotebook import tqdm as notebook_tqdm\n",
      "[nltk_data] Downloading package punkt to\n",
      "[nltk_data]     C:\\Users\\Drashby\\AppData\\Roaming\\nltk_data...\n",
      "[nltk_data]   Package punkt is already up-to-date!\n"
     ]
    }
   ],
   "source": [
    "from gensim.models import Word2Vec, FastText\n",
    "\n",
    "from word_vectorizer import WordVectorizer"
   ]
  },
  {
   "cell_type": "code",
   "execution_count": 2,
   "metadata": {},
   "outputs": [],
   "source": [
    "vectorizer = WordVectorizer(pretrained=False)"
   ]
  },
  {
   "cell_type": "code",
   "execution_count": 3,
   "metadata": {},
   "outputs": [
    {
     "name": "stdout",
     "output_type": "stream",
     "text": [
      "Dataset in ./data/raw_cat_gc_1000mb.pkl already exists.\n"
     ]
    }
   ],
   "source": [
    "vectorizer.load_data(size_mb=1000)"
   ]
  },
  {
   "cell_type": "code",
   "execution_count": 4,
   "metadata": {},
   "outputs": [
    {
     "name": "stdout",
     "output_type": "stream",
     "text": [
      "Tokenized texts in file ./data/spacy_cat_gc_1000mb.pkl already exist.\n"
     ]
    }
   ],
   "source": [
    "vectorizer.tokenize(tokenizer='spacy', batch_size=500, caps=False)"
   ]
  },
  {
   "cell_type": "code",
   "execution_count": 5,
   "metadata": {},
   "outputs": [
    {
     "name": "stdout",
     "output_type": "stream",
     "text": [
      "Loading tokenized texts from ./data/spacy_cat_gc_1000mb.pkl...\n",
      "Training word2vec model with skipgram...\n"
     ]
    }
   ],
   "source": [
    "vectorizer.train(vectorizer='word2vec', model_type='skipgram', vector_size=300, window=10, min_count=5, workers=16, save=True)"
   ]
  },
  {
   "cell_type": "code",
   "execution_count": null,
   "metadata": {},
   "outputs": [],
   "source": [
    "vectorizer.wv.most_similar('parlament', topn=10)"
   ]
  },
  {
   "cell_type": "code",
   "execution_count": null,
   "metadata": {},
   "outputs": [],
   "source": [
    "# Evaluate the model\n",
    "eval_path = './data/wordsim353.en.ca.txt' if not vectorizer.caps else './data/wordsim353.en.ca_caps.txt'\n",
    "vectorizer.wv.evaluate_word_pairs(eval_path, encoding='utf-8')"
   ]
  },
  {
   "cell_type": "code",
   "execution_count": null,
   "metadata": {},
   "outputs": [],
   "source": [
    "# Vocabulary for t-SNE\n",
    "sports = [\n",
    "\t'futbol',\n",
    "\t'tenis', \n",
    "\t'hoquei',\n",
    "\t'rugbi',\n",
    "\t'atletisme',\n",
    "\t'ciclisme',\n",
    "\t'basquet',\n",
    "\t'handbol',\n",
    "\t'volei',\n",
    "\t'esquí'\n",
    "]\n",
    "\n",
    "politics = [\n",
    "\t'parlament',\n",
    "\t'govern',\n",
    "\t'president',\n",
    "\t'alcalde',\n",
    "\t'política',\n",
    "\t'eleccions',\n",
    "\t'partit',\n",
    "\t'democràcia'\n",
    "]\n",
    "\n",
    "economy = [\n",
    "\t'economia',\n",
    "\t'empresa',\n",
    "\t'mercat',\n",
    "\t'comerç',\n",
    "\t'indústria',\n",
    "\t'finances',\n",
    "\t'negoci',\n",
    "\t'capital',\n",
    "\t'consum',\n",
    "\t'vendes'\n",
    "]\n",
    "\n",
    "nature = [\n",
    "\t'muntanya',\n",
    "\t'riu',\n",
    "\t'arbres',\n",
    "\t'flors',\n",
    "\t'paisatge',\n",
    "\t'pedra',\n",
    "\t'pirineus'\n",
    "]\n",
    "\n",
    "tech = [\n",
    "\t'ordinador',\n",
    "\t'programari',\n",
    "\t'software',\n",
    "\t'hardware',\n",
    "\t'mòbil',\n",
    "\t'xarxa',\n",
    "\t'internet',\n",
    "\t'informàtica',\n",
    "\t'ciberseguretat',\n",
    "\t'ciberatac',\n",
    "\t'dades',\n",
    "\t'bigdata',\n",
    "\t'digital'\n",
    "]\n",
    "\n",
    "music = [\n",
    "\t'piano',\n",
    "\t'guitarra',\n",
    "\t'violí',\n",
    "\t'trompeta',\n",
    "\t'orquestra',\n",
    "\t'concert',\n",
    "\t'òpera',\t\n",
    "]\n",
    "\n",
    "food = [\n",
    "\t'pizza',\n",
    "\t'hamburguesa',\n",
    "\t'pasta',\n",
    "\t'paella',\n",
    "\t'carn',\n",
    "\t'amanida',\n",
    "\t'canelons',\n",
    "\t'postres',\n",
    "\t'gelat',\n",
    "\t'arròs',\n",
    "]\n",
    "\n",
    "animals = [\n",
    "\t'gos',\n",
    "\t'gat',\n",
    "\t'elefant',\n",
    "\t'girafa',\n",
    "\t'hipopòtam',\n",
    "\t'ocell',\n",
    "\t'lleó',\n",
    "\t'ratolí',\n",
    "\t'tigre',\n",
    "\t'cavall',\n",
    "\t'vaca',\n",
    "\t'gallina'\n",
    "]"
   ]
  },
  {
   "cell_type": "code",
   "execution_count": null,
   "metadata": {},
   "outputs": [],
   "source": [
    "# Vocabulary for t-SNE\n",
    "# sports + politics + economy + nature + tech + music + food + animals\n",
    "tsne_vocabulary = sports + politics + nature + tech + food"
   ]
  },
  {
   "cell_type": "code",
   "execution_count": null,
   "metadata": {},
   "outputs": [],
   "source": [
    "vectorizer.tsne(vocabulary=tsne_vocabulary, num_words=100, perplexity=5, save=True)"
   ]
  }
 ],
 "metadata": {
  "kernelspec": {
   "display_name": ".venv",
   "language": "python",
   "name": "python3"
  },
  "language_info": {
   "codemirror_mode": {
    "name": "ipython",
    "version": 3
   },
   "file_extension": ".py",
   "mimetype": "text/x-python",
   "name": "python",
   "nbconvert_exporter": "python",
   "pygments_lexer": "ipython3",
   "version": "3.11.3"
  }
 },
 "nbformat": 4,
 "nbformat_minor": 2
}
