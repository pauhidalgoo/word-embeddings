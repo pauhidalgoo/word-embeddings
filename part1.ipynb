{
 "cells": [
  {
   "cell_type": "code",
   "execution_count": 1,
   "metadata": {},
   "outputs": [
    {
     "name": "stderr",
     "output_type": "stream",
     "text": [
      "e:\\Development\\VSCODE\\University\\PLH\\word-embeddings\\.venv\\Lib\\site-packages\\tqdm\\auto.py:21: TqdmWarning: IProgress not found. Please update jupyter and ipywidgets. See https://ipywidgets.readthedocs.io/en/stable/user_install.html\n",
      "  from .autonotebook import tqdm as notebook_tqdm\n",
      "[nltk_data] Downloading package punkt to\n",
      "[nltk_data]     C:\\Users\\Drashby\\AppData\\Roaming\\nltk_data...\n",
      "[nltk_data]   Package punkt is already up-to-date!\n"
     ]
    }
   ],
   "source": [
    "from gensim.models import Word2Vec\n",
    "from gensim.models import FastText\n",
    "\n",
    "from word_vectorizer import WordVectorizer"
   ]
  },
  {
   "cell_type": "code",
   "execution_count": 2,
   "metadata": {},
   "outputs": [],
   "source": [
    "vectorizer = WordVectorizer()"
   ]
  },
  {
   "cell_type": "code",
   "execution_count": 3,
   "metadata": {},
   "outputs": [
    {
     "name": "stdout",
     "output_type": "stream",
     "text": [
      "Dataset in ./data/raw_cat_gc_maxmb.pkl already exists.\n"
     ]
    }
   ],
   "source": [
    "vectorizer.load_data(size_mb='max')"
   ]
  },
  {
   "cell_type": "code",
   "execution_count": 4,
   "metadata": {},
   "outputs": [
    {
     "name": "stdout",
     "output_type": "stream",
     "text": [
      "Tokenized texts in file ./data/nltk_cat_gc_maxmb.pkl already exist.\n"
     ]
    }
   ],
   "source": [
    "vectorizer.tokenize(tokenizer='nltk', caps=False, batch_size=500)"
   ]
  },
  {
   "cell_type": "code",
   "execution_count": 5,
   "metadata": {},
   "outputs": [
    {
     "name": "stdout",
     "output_type": "stream",
     "text": [
      "Model in ./models/word2vec/w2v_sg_100_nltk_cat_gc_maxmb.model already exists. Loaded model.\n"
     ]
    }
   ],
   "source": [
    "model: Word2Vec | FastText = vectorizer.train(vectorizer='word2vec', model_type='skipgram', vector_size=100, workers=16, save=True)"
   ]
  },
  {
   "cell_type": "code",
   "execution_count": 6,
   "metadata": {},
   "outputs": [
    {
     "data": {
      "text/plain": [
       "[('sexi', 0.7591359615325928),\n",
       " ('eixerida', 0.73984694480896),\n",
       " ('presumida', 0.7394480109214783),\n",
       " ('baixeta', 0.7344704866409302),\n",
       " ('lletja', 0.7339998483657837),\n",
       " ('guai', 0.7312346696853638),\n",
       " ('grassoneta', 0.7271562218666077),\n",
       " ('maca', 0.7265952825546265),\n",
       " ('guapíssima', 0.7262324094772339),\n",
       " ('guarra', 0.725433886051178)]"
      ]
     },
     "execution_count": 6,
     "metadata": {},
     "output_type": "execute_result"
    }
   ],
   "source": [
    "model.wv.most_similar('guapa', topn=10)"
   ]
  },
  {
   "cell_type": "code",
   "execution_count": 7,
   "metadata": {},
   "outputs": [
    {
     "data": {
      "text/plain": [
       "(PearsonRResult(statistic=0.49414437543712003, pvalue=6.0274824166184415e-15),\n",
       " SignificanceResult(statistic=0.5243350573226853, pvalue=6.153711761765849e-17),\n",
       " 0.4524886877828055)"
      ]
     },
     "execution_count": 7,
     "metadata": {},
     "output_type": "execute_result"
    }
   ],
   "source": [
    "# Evaluate the model\n",
    "metrics = model.wv.evaluate_word_pairs('./data/wordsim353.en.ca.txt', encoding='utf-8')\n",
    "metrics"
   ]
  }
 ],
 "metadata": {
  "kernelspec": {
   "display_name": ".venv",
   "language": "python",
   "name": "python3"
  },
  "language_info": {
   "codemirror_mode": {
    "name": "ipython",
    "version": 3
   },
   "file_extension": ".py",
   "mimetype": "text/x-python",
   "name": "python",
   "nbconvert_exporter": "python",
   "pygments_lexer": "ipython3",
   "version": "3.11.3"
  }
 },
 "nbformat": 4,
 "nbformat_minor": 2
}
