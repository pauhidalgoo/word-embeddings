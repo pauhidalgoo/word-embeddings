{
 "cells": [
  {
   "cell_type": "code",
   "execution_count": 1,
   "metadata": {},
   "outputs": [
    {
     "name": "stderr",
     "output_type": "stream",
     "text": [
      "e:\\Development\\VSCODE\\University\\PLH\\word-embeddings\\.venv\\Lib\\site-packages\\tqdm\\auto.py:21: TqdmWarning: IProgress not found. Please update jupyter and ipywidgets. See https://ipywidgets.readthedocs.io/en/stable/user_install.html\n",
      "  from .autonotebook import tqdm as notebook_tqdm\n",
      "[nltk_data] Downloading package punkt to\n",
      "[nltk_data]     C:\\Users\\Drashby\\AppData\\Roaming\\nltk_data...\n",
      "[nltk_data]   Package punkt is already up-to-date!\n"
     ]
    }
   ],
   "source": [
    "from gensim.models import Word2Vec\n",
    "from gensim.models import FastText\n",
    "\n",
    "from word_vectorizer import WordVectorizer"
   ]
  },
  {
   "cell_type": "code",
   "execution_count": 2,
   "metadata": {},
   "outputs": [],
   "source": [
    "vectorizer = WordVectorizer()"
   ]
  },
  {
   "cell_type": "code",
   "execution_count": 3,
   "metadata": {},
   "outputs": [
    {
     "name": "stdout",
     "output_type": "stream",
     "text": [
      "Dataset in ./data/raw_cat_gc_250mb.pkl already exists.\n"
     ]
    }
   ],
   "source": [
    "vectorizer.load_data(size_mb=500)"
   ]
  },
  {
   "cell_type": "code",
   "execution_count": 4,
   "metadata": {},
   "outputs": [
    {
     "name": "stdout",
     "output_type": "stream",
     "text": [
      "CUDA GPU available. Using spacy with CUDA.\n",
      "Tokenized 118000/117732 texts with spacy.\r"
     ]
    }
   ],
   "source": [
    "vectorizer.tokenize(tokenizer='spacy', caps=False, batch_size=500)"
   ]
  },
  {
   "cell_type": "code",
   "execution_count": 5,
   "metadata": {},
   "outputs": [
    {
     "name": "stdout",
     "output_type": "stream",
     "text": [
      "<class 'list'>\n",
      "117732\n",
      "5\n",
      "Training word2vec model with skipgram...\n"
     ]
    }
   ],
   "source": [
    "model: Word2Vec | FastText = vectorizer.train(vectorizer='word2vec', model_type='skipgram', vector_size=100, workers=16, save=True)"
   ]
  },
  {
   "cell_type": "code",
   "execution_count": 6,
   "metadata": {},
   "outputs": [
    {
     "data": {
      "text/plain": [
       "[('tonta', 0.7739361524581909),\n",
       " ('maquillada', 0.7718512415885925),\n",
       " ('guarra', 0.767608106136322),\n",
       " ('tranquila', 0.7667609453201294),\n",
       " ('presumida', 0.7642133831977844),\n",
       " ('terribes', 0.7586987018585205),\n",
       " ('porca', 0.7568697929382324),\n",
       " ('amargada', 0.7553926110267639),\n",
       " ('espavilada', 0.7547579407691956),\n",
       " ('baixeta', 0.7499359250068665)]"
      ]
     },
     "execution_count": 6,
     "metadata": {},
     "output_type": "execute_result"
    }
   ],
   "source": [
    "model.wv.most_similar('guapa', topn=10)"
   ]
  }
 ],
 "metadata": {
  "kernelspec": {
   "display_name": ".venv",
   "language": "python",
   "name": "python3"
  },
  "language_info": {
   "codemirror_mode": {
    "name": "ipython",
    "version": 3
   },
   "file_extension": ".py",
   "mimetype": "text/x-python",
   "name": "python",
   "nbconvert_exporter": "python",
   "pygments_lexer": "ipython3",
   "version": "3.11.3"
  }
 },
 "nbformat": 4,
 "nbformat_minor": 2
}
