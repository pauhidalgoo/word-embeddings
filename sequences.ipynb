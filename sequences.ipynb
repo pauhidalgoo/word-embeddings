{
 "cells": [
  {
   "cell_type": "code",
   "execution_count": 1,
   "metadata": {},
   "outputs": [
    {
     "name": "stderr",
     "output_type": "stream",
     "text": [
      "c:\\Users\\Usuario\\Documents\\Universitat\\4rt Quatri\\PLH\\Practica4\\word-embeddings\\.venv\\Lib\\site-packages\\tqdm\\auto.py:21: TqdmWarning: IProgress not found. Please update jupyter and ipywidgets. See https://ipywidgets.readthedocs.io/en/stable/user_install.html\n",
      "  from .autonotebook import tqdm as notebook_tqdm\n"
     ]
    }
   ],
   "source": [
    "from text_similarity_class import TextSimilarity\n",
    "import numpy as np\n",
    "from scipy import spatial\n",
    "from typing import Tuple, List, Optional\n",
    "from datasets import load_dataset\n",
    "import tensorflow as tf\n",
    "from gensim.models import TfidfModel, fasttext\n",
    "from gensim.utils import simple_preprocess\n",
    "from gensim.corpora import Dictionary\n",
    "from scipy.stats import pearsonr\n",
    "import spacy"
   ]
  },
  {
   "cell_type": "code",
   "execution_count": 2,
   "metadata": {},
   "outputs": [],
   "source": [
    "# Load the dataset\n",
    "dataset = load_dataset(\"projecte-aina/sts-ca\", trust_remote_code=True)\n",
    "\n",
    "# Load the word embedding model\n",
    "WORD_EMBEDDING_FILE = \"models/fasttext_100.bin\"\n",
    "wv_model = fasttext.load_facebook_vectors(WORD_EMBEDDING_FILE)\n",
    "\n",
    "# Load spaCy models for RoBERTa\n",
    "spacy_roberta = spacy.load(\"ca_core_news_trf\")\n",
    "\n",
    "# Preprocess function\n",
    "def preprocess(sentence: str) -> List[str]:\n",
    "    return simple_preprocess(sentence)\n",
    "\n",
    "# Data extraction and preprocessing\n",
    "input_pairs = [(e[\"sentence1\"], e[\"sentence2\"], e[\"label\"]) for e in dataset[\"train\"]]\n",
    "input_pairs_val = [(e[\"sentence1\"], e[\"sentence2\"], e[\"label\"]) for e in dataset[\"validation\"]]\n",
    "input_pairs_test = [(e[\"sentence1\"], e[\"sentence2\"], e[\"label\"]) for e in dataset[\"test\"]]"
   ]
  },
  {
   "cell_type": "code",
   "execution_count": null,
   "metadata": {},
   "outputs": [],
   "source": [
    "\n",
    "# Instantiate the class and run the methods\n",
    "text_similarity = TextSimilarity(wv_model, spacy_model=spacy_roberta)\n",
    "\n",
    "# Prepare data\n",
    "text_similarity.prepare_data(input_pairs + input_pairs_val + input_pairs_test)\n",
    "\n",
    "# Use TF-IDF weighted FastText embeddings\n",
    "mapped_train_tfidf = text_similarity.map_pairs(input_pairs, use_tfidf=True)\n",
    "mapped_val_tfidf = text_similarity.map_pairs(input_pairs_val, use_tfidf=True)\n",
    "mapped_test_tfidf = text_similarity.map_pairs(input_pairs_test, use_tfidf=True)\n",
    "\n",
    "\n",
    "# Prepare datasets for TF-IDF weighted FastText embeddings\n",
    "batch_size = 64\n",
    "train_dataset_tfidf, val_dataset_tfidf, test_dataset_tfidf = text_similarity.prepare_datasets(mapped_train_tfidf, mapped_val_tfidf, mapped_test_tfidf, batch_size)\n",
    "\n",
    "# Build and compile the model for TF-IDF weighted FastText embeddings\n",
    "model_tfidf = text_similarity.build_and_compile_model()\n",
    "\n",
    "# Train the model for TF-IDF weighted FastText embeddings\n",
    "num_epochs = 64\n",
    "text_similarity.train_model(model_tfidf, train_dataset_tfidf, val_dataset_tfidf, num_epochs)\n",
    "\n",
    "# Compute Pearson correlation for TF-IDF weighted FastText embeddings\n",
    "x_test_tfidf, y_test_tfidf = text_similarity.pair_list_to_x_y(mapped_test_tfidf)\n",
    "print(f\"Pearson Correlation (TF-IDF weighted FastText): {text_similarity.compute_pearson(model_tfidf, x_test_tfidf, y_test_tfidf)}\")\n",
    "\n"
   ]
  },
  {
   "cell_type": "code",
   "execution_count": null,
   "metadata": {},
   "outputs": [],
   "source": [
    "\n",
    "# Use RoBERTa embeddings\n",
    "mapped_train_roberta = text_similarity.map_pairs(input_pairs, use_roberta=True)\n",
    "mapped_val_roberta = text_similarity.map_pairs(input_pairs_val, use_roberta=True)\n",
    "mapped_test_roberta = text_similarity.map_pairs(input_pairs_test, use_roberta=True)\n",
    "# Prepare datasets for RoBERTa embeddings\n",
    "train_dataset_roberta, val_dataset_roberta, test_dataset_roberta = text_similarity.prepare_datasets(mapped_train_roberta, mapped_val_roberta, mapped_test_roberta, batch_size)\n",
    "\n",
    "# Build and compile the model for RoBERTa embeddings\n",
    "model_roberta = text_similarity.build_and_compile_model(embedding_size=768)  # RoBERTa has 768 dimensions\n",
    "\n",
    "# Train the model for RoBERTa embeddings\n",
    "text_similarity.train_model(model_roberta, train_dataset_roberta, val_dataset_roberta, num_epochs)\n",
    "\n",
    "# Compute Pearson correlation for RoBERTa embeddings\n",
    "x_test_roberta, y_test_roberta = text_similarity.pair_list_to_x_y(mapped_test_roberta)\n",
    "print(f\"Pearson Correlation (RoBERTa): {text_similarity.compute_pearson(model_roberta, x_test_roberta, y_test_roberta)}\")\n",
    "\n",
    "# Prepare datasets for trainable embeddings\n",
    "max_len = 100  # max length of input sentences\n",
    "dictionary_size = len(text_similarity.dictionary) + 1  # +1 for padding\n",
    "embedding_size = 100  # embedding size for trainable embeddings\n",
    "mapped_train_ids = text_similarity.map_pairs(input_pairs)\n",
    "mapped_val_ids = text_similarity.map_pairs(input_pairs_val)\n",
    "mapped_test_ids = text_similarity.map_pairs(input_pairs_test)\n",
    "train_dataset_ids, val_dataset_ids, test_dataset_ids = text_similarity.prepare_datasets(mapped_train_ids, mapped_val_ids, mapped_test_ids, batch_size)\n",
    "\n",
    "# Build and compile the model for trainable embeddings\n",
    "model_trainable = text_similarity.build_and_compile_trainable_model(input_length=max_len, dictionary_size=dictionary_size, embedding_size=embedding_size)\n",
    "\n",
    "# Train the model for trainable embeddings\n",
    "text_similarity.train_model(model_trainable, train_dataset_ids, val_dataset_ids, num_epochs)\n",
    "\n",
    "# Compute Pearson correlation for trainable embeddings\n",
    "x_test_ids, y_test_ids = text_similarity.pair_list_to_x_y(mapped_test_ids)\n",
    "print(f\"Pearson Correlation (Trainable embeddings): {text_similarity.compute_pearson(model_trainable, x_test_ids, y_test_ids)}\")\n"
   ]
  }
 ],
 "metadata": {
  "kernelspec": {
   "display_name": ".venv",
   "language": "python",
   "name": "python3"
  },
  "language_info": {
   "codemirror_mode": {
    "name": "ipython",
    "version": 3
   },
   "file_extension": ".py",
   "mimetype": "text/x-python",
   "name": "python",
   "nbconvert_exporter": "python",
   "pygments_lexer": "ipython3",
   "version": "3.11.9"
  }
 },
 "nbformat": 4,
 "nbformat_minor": 2
}
